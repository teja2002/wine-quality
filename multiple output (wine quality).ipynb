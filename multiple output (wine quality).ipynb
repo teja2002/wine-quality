{
 "cells": [
  {
   "cell_type": "code",
   "execution_count": 1,
   "metadata": {},
   "outputs": [],
   "source": [
    "import tensorflow as tf\n",
    "from tensorflow.keras.models import Model\n",
    "from tensorflow.keras.layers import Dense, Input\n",
    "\n",
    "import numpy as np\n",
    "import matplotlib.pyplot as plt\n",
    "import pandas as pd\n",
    "from sklearn.model_selection import train_test_split\n",
    "from sklearn.metrics import confusion_matrix\n",
    "import itertools\n",
    "\n"
   ]
  },
  {
   "cell_type": "code",
   "execution_count": 2,
   "metadata": {},
   "outputs": [],
   "source": [
    "# # URL of the white wine dataset\n",
    "URL = 'http://archive.ics.uci.edu/ml/machine-learning-databases/wine-quality/winequality-white.csv'\n",
    "\n",
    "# # load the dataset from the URL\n",
    "white_df = pd.read_csv(URL, sep=\";\")\n",
    "\n",
    "# # fill the `is_red` column with zeros.\n",
    "white_df[\"is_red\"] = 0\n",
    "\n",
    "# # keep only the first of duplicate items\n",
    "white_df = white_df.drop_duplicates(keep='first')"
   ]
  },
  {
   "cell_type": "code",
   "execution_count": 3,
   "metadata": {},
   "outputs": [
    {
     "name": "stdout",
     "output_type": "stream",
     "text": [
      "8.8\n",
      "9.1\n"
     ]
    }
   ],
   "source": [
    "print(white_df.alcohol[0])\n",
    "print(white_df.alcohol[100])"
   ]
  },
  {
   "cell_type": "code",
   "execution_count": 4,
   "metadata": {},
   "outputs": [],
   "source": [
    "# # URL of the red wine dataset\n",
    "URL = 'http://archive.ics.uci.edu/ml/machine-learning-databases/wine-quality/winequality-red.csv'\n",
    "\n",
    "# # load the dataset from the URL\n",
    "red_df = pd.read_csv(URL, sep=\";\")\n",
    "\n",
    "# # fill the `is_red` column with ones.\n",
    "red_df[\"is_red\"] = 1\n",
    "\n",
    "# # keep only the first of duplicate items\n",
    "red_df = red_df.drop_duplicates(keep='first')"
   ]
  },
  {
   "cell_type": "code",
   "execution_count": 5,
   "metadata": {},
   "outputs": [
    {
     "name": "stdout",
     "output_type": "stream",
     "text": [
      "9.4\n",
      "10.2\n"
     ]
    }
   ],
   "source": [
    "print(red_df.alcohol[0])\n",
    "print(red_df.alcohol[100])"
   ]
  },
  {
   "cell_type": "code",
   "execution_count": 6,
   "metadata": {},
   "outputs": [],
   "source": [
    "df = pd.concat([red_df, white_df], ignore_index=True)"
   ]
  },
  {
   "cell_type": "code",
   "execution_count": 7,
   "metadata": {},
   "outputs": [
    {
     "name": "stdout",
     "output_type": "stream",
     "text": [
      "9.4\n",
      "9.5\n"
     ]
    }
   ],
   "source": [
    "print(df.alcohol[0])\n",
    "print(df.alcohol[100])"
   ]
  },
  {
   "cell_type": "code",
   "execution_count": 8,
   "metadata": {},
   "outputs": [
    {
     "data": {
      "image/png": "[encoded data removed]",
      "text/plain": [
       "<Figure size 432x288 with 1 Axes>"
      ]
     },
     "metadata": {
      "needs_background": "light"
     },
     "output_type": "display_data"
    }
   ],
   "source": [
    "df['quality'].hist(bins=20);"
   ]
  },
  {
   "cell_type": "code",
   "execution_count": 9,
   "metadata": {},
   "outputs": [],
   "source": [
    "# # get data with wine quality greater than 4 and less than 8\n",
    "df = df[(df['quality'] > 4) & (df['quality'] < 8 )]\n",
    "\n",
    "# # reset index and drop the old one\n",
    "df = df.reset_index(drop=True)"
   ]
  },
  {
   "cell_type": "code",
   "execution_count": 10,
   "metadata": {},
   "outputs": [
    {
     "name": "stdout",
     "output_type": "stream",
     "text": [
      "9.4\n",
      "10.9\n"
     ]
    }
   ],
   "source": [
    "print(df.alcohol[0])\n",
    "print(df.alcohol[100])"
   ]
  },
  {
   "cell_type": "code",
   "execution_count": 11,
   "metadata": {},
   "outputs": [
    {
     "data": {
      "image/png": "[encoded data removed]",
      "text/plain": [
       "<Figure size 432x288 with 1 Axes>"
      ]
     },
     "metadata": {
      "needs_background": "light"
     },
     "output_type": "display_data"
    }
   ],
   "source": [
    "df['quality'].hist(bins=20);"
   ]
  },
  {
   "cell_type": "code",
   "execution_count": 12,
   "metadata": {},
   "outputs": [],
   "source": [
    "# # split df into 80:20 train and test sets\n",
    "train, test = train_test_split(df, test_size=0.2, random_state = 1)\n",
    "                               \n",
    "# # split train into 80:20 train and val sets\n",
    "train, val = train_test_split(train, test_size= 0.2, random_state = 1)"
   ]
  },
  {
   "cell_type": "code",
   "execution_count": 13,
   "metadata": {},
   "outputs": [],
   "source": [
    "train_stats = train.describe()\n",
    "train_stats.pop('is_red')\n",
    "train_stats.pop('quality')\n",
    "train_stats = train_stats.transpose()"
   ]
  },
  {
   "cell_type": "code",
   "execution_count": 14,
   "metadata": {},
   "outputs": [
    {
     "data": {
      "text/html": [
       "<div>\n",
       "<style scoped>\n",
       "    .dataframe tbody tr th:only-of-type {\n",
       "        vertical-align: middle;\n",
       "    }\n",
       "\n",
       "    .dataframe tbody tr th {\n",
       "        vertical-align: top;\n",
       "    }\n",
       "\n",
       "    .dataframe thead th {\n",
       "        text-align: right;\n",
       "    }\n",
       "</style>\n",
       "<table border=\"1\" class=\"dataframe\">\n",
       "  <thead>\n",
       "    <tr style=\"text-align: right;\">\n",
       "      <th></th>\n",
       "      <th>count</th>\n",
       "      <th>mean</th>\n",
       "      <th>std</th>\n",
       "      <th>min</th>\n",
       "      <th>25%</th>\n",
       "      <th>50%</th>\n",
       "      <th>75%</th>\n",
       "      <th>max</th>\n",
       "    </tr>\n",
       "  </thead>\n",
       "  <tbody>\n",
       "    <tr>\n",
       "      <th>fixed acidity</th>\n",
       "      <td>3155.0</td>\n",
       "      <td>7.221616</td>\n",
       "      <td>1.325297</td>\n",
       "      <td>3.80000</td>\n",
       "      <td>6.40000</td>\n",
       "      <td>7.00000</td>\n",
       "      <td>7.7000</td>\n",
       "      <td>15.60000</td>\n",
       "    </tr>\n",
       "    <tr>\n",
       "      <th>volatile acidity</th>\n",
       "      <td>3155.0</td>\n",
       "      <td>0.338929</td>\n",
       "      <td>0.162476</td>\n",
       "      <td>0.08000</td>\n",
       "      <td>0.23000</td>\n",
       "      <td>0.29000</td>\n",
       "      <td>0.4000</td>\n",
       "      <td>1.24000</td>\n",
       "    </tr>\n",
       "    <tr>\n",
       "      <th>citric acid</th>\n",
       "      <td>3155.0</td>\n",
       "      <td>0.321569</td>\n",
       "      <td>0.147970</td>\n",
       "      <td>0.00000</td>\n",
       "      <td>0.25000</td>\n",
       "      <td>0.31000</td>\n",
       "      <td>0.4000</td>\n",
       "      <td>1.66000</td>\n",
       "    </tr>\n",
       "    <tr>\n",
       "      <th>residual sugar</th>\n",
       "      <td>3155.0</td>\n",
       "      <td>5.155911</td>\n",
       "      <td>4.639632</td>\n",
       "      <td>0.60000</td>\n",
       "      <td>1.80000</td>\n",
       "      <td>2.80000</td>\n",
       "      <td>7.6500</td>\n",
       "      <td>65.80000</td>\n",
       "    </tr>\n",
       "    <tr>\n",
       "      <th>chlorides</th>\n",
       "      <td>3155.0</td>\n",
       "      <td>0.056976</td>\n",
       "      <td>0.036802</td>\n",
       "      <td>0.01200</td>\n",
       "      <td>0.03800</td>\n",
       "      <td>0.04700</td>\n",
       "      <td>0.0660</td>\n",
       "      <td>0.61100</td>\n",
       "    </tr>\n",
       "    <tr>\n",
       "      <th>free sulfur dioxide</th>\n",
       "      <td>3155.0</td>\n",
       "      <td>30.388590</td>\n",
       "      <td>17.236784</td>\n",
       "      <td>1.00000</td>\n",
       "      <td>17.00000</td>\n",
       "      <td>28.00000</td>\n",
       "      <td>41.0000</td>\n",
       "      <td>131.00000</td>\n",
       "    </tr>\n",
       "    <tr>\n",
       "      <th>total sulfur dioxide</th>\n",
       "      <td>3155.0</td>\n",
       "      <td>115.062282</td>\n",
       "      <td>56.706617</td>\n",
       "      <td>6.00000</td>\n",
       "      <td>75.00000</td>\n",
       "      <td>117.00000</td>\n",
       "      <td>156.0000</td>\n",
       "      <td>344.00000</td>\n",
       "    </tr>\n",
       "    <tr>\n",
       "      <th>density</th>\n",
       "      <td>3155.0</td>\n",
       "      <td>0.994633</td>\n",
       "      <td>0.003005</td>\n",
       "      <td>0.98711</td>\n",
       "      <td>0.99232</td>\n",
       "      <td>0.99481</td>\n",
       "      <td>0.9968</td>\n",
       "      <td>1.03898</td>\n",
       "    </tr>\n",
       "    <tr>\n",
       "      <th>pH</th>\n",
       "      <td>3155.0</td>\n",
       "      <td>3.223201</td>\n",
       "      <td>0.161272</td>\n",
       "      <td>2.72000</td>\n",
       "      <td>3.11000</td>\n",
       "      <td>3.21000</td>\n",
       "      <td>3.3300</td>\n",
       "      <td>4.01000</td>\n",
       "    </tr>\n",
       "    <tr>\n",
       "      <th>sulphates</th>\n",
       "      <td>3155.0</td>\n",
       "      <td>0.534051</td>\n",
       "      <td>0.149149</td>\n",
       "      <td>0.22000</td>\n",
       "      <td>0.43000</td>\n",
       "      <td>0.51000</td>\n",
       "      <td>0.6000</td>\n",
       "      <td>1.95000</td>\n",
       "    </tr>\n",
       "    <tr>\n",
       "      <th>alcohol</th>\n",
       "      <td>3155.0</td>\n",
       "      <td>10.504466</td>\n",
       "      <td>1.154654</td>\n",
       "      <td>8.50000</td>\n",
       "      <td>9.50000</td>\n",
       "      <td>10.30000</td>\n",
       "      <td>11.3000</td>\n",
       "      <td>14.00000</td>\n",
       "    </tr>\n",
       "  </tbody>\n",
       "</table>\n",
       "</div>"
      ],
      "text/plain": [
       "                       count        mean        std      min       25%  \\\n",
       "fixed acidity         3155.0    7.221616   1.325297  3.80000   6.40000   \n",
       "volatile acidity      3155.0    0.338929   0.162476  0.08000   0.23000   \n",
       "citric acid           3155.0    0.321569   0.147970  0.00000   0.25000   \n",
       "residual sugar        3155.0    5.155911   4.639632  0.60000   1.80000   \n",
       "chlorides             3155.0    0.056976   0.036802  0.01200   0.03800   \n",
       "free sulfur dioxide   3155.0   30.388590  17.236784  1.00000  17.00000   \n",
       "total sulfur dioxide  3155.0  115.062282  56.706617  6.00000  75.00000   \n",
       "density               3155.0    0.994633   0.003005  0.98711   0.99232   \n",
       "pH                    3155.0    3.223201   0.161272  2.72000   3.11000   \n",
       "sulphates             3155.0    0.534051   0.149149  0.22000   0.43000   \n",
       "alcohol               3155.0   10.504466   1.154654  8.50000   9.50000   \n",
       "\n",
       "                            50%       75%        max  \n",
       "fixed acidity           7.00000    7.7000   15.60000  \n",
       "volatile acidity        0.29000    0.4000    1.24000  \n",
       "citric acid             0.31000    0.4000    1.66000  \n",
       "residual sugar          2.80000    7.6500   65.80000  \n",
       "chlorides               0.04700    0.0660    0.61100  \n",
       "free sulfur dioxide    28.00000   41.0000  131.00000  \n",
       "total sulfur dioxide  117.00000  156.0000  344.00000  \n",
       "density                 0.99481    0.9968    1.03898  \n",
       "pH                      3.21000    3.3300    4.01000  \n",
       "sulphates               0.51000    0.6000    1.95000  \n",
       "alcohol                10.30000   11.3000   14.00000  "
      ]
     },
     "execution_count": 14,
     "metadata": {},
     "output_type": "execute_result"
    }
   ],
   "source": [
    "train_stats"
   ]
  },
  {
   "cell_type": "code",
   "execution_count": 15,
   "metadata": {},
   "outputs": [],
   "source": [
    "def format_output(data):\n",
    "    is_red = data.pop('is_red')\n",
    "    is_red = np.array(is_red)\n",
    "    quality = data.pop('quality')\n",
    "    quality = np.array(quality)\n",
    "    return (quality, is_red)"
   ]
  },
  {
   "cell_type": "code",
   "execution_count": 16,
   "metadata": {},
   "outputs": [],
   "source": [
    "# # format the output of the train set\n",
    "train_Y = format_output(train)\n",
    "\n",
    "# # format the output of the val set\n",
    "val_Y = format_output(val)\n",
    "    \n",
    "# # format the output of the test set\n",
    "test_Y = format_output(test)"
   ]
  },
  {
   "cell_type": "code",
   "execution_count": 17,
   "metadata": {},
   "outputs": [
    {
     "data": {
      "text/html": [
       "<div>\n",
       "<style scoped>\n",
       "    .dataframe tbody tr th:only-of-type {\n",
       "        vertical-align: middle;\n",
       "    }\n",
       "\n",
       "    .dataframe tbody tr th {\n",
       "        vertical-align: top;\n",
       "    }\n",
       "\n",
       "    .dataframe thead th {\n",
       "        text-align: right;\n",
       "    }\n",
       "</style>\n",
       "<table border=\"1\" class=\"dataframe\">\n",
       "  <thead>\n",
       "    <tr style=\"text-align: right;\">\n",
       "      <th></th>\n",
       "      <th>fixed acidity</th>\n",
       "      <th>volatile acidity</th>\n",
       "      <th>citric acid</th>\n",
       "      <th>residual sugar</th>\n",
       "      <th>chlorides</th>\n",
       "      <th>free sulfur dioxide</th>\n",
       "      <th>total sulfur dioxide</th>\n",
       "      <th>density</th>\n",
       "      <th>pH</th>\n",
       "      <th>sulphates</th>\n",
       "      <th>alcohol</th>\n",
       "    </tr>\n",
       "  </thead>\n",
       "  <tbody>\n",
       "    <tr>\n",
       "      <th>225</th>\n",
       "      <td>7.5</td>\n",
       "      <td>0.65</td>\n",
       "      <td>0.18</td>\n",
       "      <td>7.0</td>\n",
       "      <td>0.088</td>\n",
       "      <td>27.0</td>\n",
       "      <td>94.0</td>\n",
       "      <td>0.99915</td>\n",
       "      <td>3.38</td>\n",
       "      <td>0.77</td>\n",
       "      <td>9.4</td>\n",
       "    </tr>\n",
       "    <tr>\n",
       "      <th>3557</th>\n",
       "      <td>6.3</td>\n",
       "      <td>0.27</td>\n",
       "      <td>0.29</td>\n",
       "      <td>12.2</td>\n",
       "      <td>0.044</td>\n",
       "      <td>59.0</td>\n",
       "      <td>196.0</td>\n",
       "      <td>0.99782</td>\n",
       "      <td>3.14</td>\n",
       "      <td>0.40</td>\n",
       "      <td>8.8</td>\n",
       "    </tr>\n",
       "    <tr>\n",
       "      <th>3825</th>\n",
       "      <td>8.8</td>\n",
       "      <td>0.27</td>\n",
       "      <td>0.25</td>\n",
       "      <td>5.0</td>\n",
       "      <td>0.024</td>\n",
       "      <td>52.0</td>\n",
       "      <td>99.0</td>\n",
       "      <td>0.99250</td>\n",
       "      <td>2.87</td>\n",
       "      <td>0.49</td>\n",
       "      <td>11.4</td>\n",
       "    </tr>\n",
       "    <tr>\n",
       "      <th>1740</th>\n",
       "      <td>6.4</td>\n",
       "      <td>0.45</td>\n",
       "      <td>0.07</td>\n",
       "      <td>1.1</td>\n",
       "      <td>0.030</td>\n",
       "      <td>10.0</td>\n",
       "      <td>131.0</td>\n",
       "      <td>0.99050</td>\n",
       "      <td>2.97</td>\n",
       "      <td>0.28</td>\n",
       "      <td>10.8</td>\n",
       "    </tr>\n",
       "    <tr>\n",
       "      <th>1221</th>\n",
       "      <td>7.2</td>\n",
       "      <td>0.53</td>\n",
       "      <td>0.13</td>\n",
       "      <td>2.0</td>\n",
       "      <td>0.058</td>\n",
       "      <td>18.0</td>\n",
       "      <td>22.0</td>\n",
       "      <td>0.99573</td>\n",
       "      <td>3.21</td>\n",
       "      <td>0.68</td>\n",
       "      <td>9.9</td>\n",
       "    </tr>\n",
       "  </tbody>\n",
       "</table>\n",
       "</div>"
      ],
      "text/plain": [
       "      fixed acidity  volatile acidity  citric acid  residual sugar  chlorides  \\\n",
       "225             7.5              0.65         0.18             7.0      0.088   \n",
       "3557            6.3              0.27         0.29            12.2      0.044   \n",
       "3825            8.8              0.27         0.25             5.0      0.024   \n",
       "1740            6.4              0.45         0.07             1.1      0.030   \n",
       "1221            7.2              0.53         0.13             2.0      0.058   \n",
       "\n",
       "      free sulfur dioxide  total sulfur dioxide  density    pH  sulphates  \\\n",
       "225                  27.0                  94.0  0.99915  3.38       0.77   \n",
       "3557                 59.0                 196.0  0.99782  3.14       0.40   \n",
       "3825                 52.0                  99.0  0.99250  2.87       0.49   \n",
       "1740                 10.0                 131.0  0.99050  2.97       0.28   \n",
       "1221                 18.0                  22.0  0.99573  3.21       0.68   \n",
       "\n",
       "      alcohol  \n",
       "225       9.4  \n",
       "3557      8.8  \n",
       "3825     11.4  \n",
       "1740     10.8  \n",
       "1221      9.9  "
      ]
     },
     "execution_count": 17,
     "metadata": {},
     "output_type": "execute_result"
    }
   ],
   "source": [
    "train.head()"
   ]
  },
  {
   "cell_type": "code",
   "execution_count": 18,
   "metadata": {},
   "outputs": [],
   "source": [
    "def norm(x):\n",
    "    return (x - train_stats['mean']) / train_stats['std']"
   ]
  },
  {
   "cell_type": "code",
   "execution_count": 19,
   "metadata": {},
   "outputs": [],
   "source": [
    "# # normalize the train set\n",
    "norm_train_X = norm(train)\n",
    "    \n",
    "# # normalize the val set\n",
    "norm_val_X = norm(val)\n",
    "    \n",
    "# # normalize the test set\n",
    "norm_test_X = norm(test)"
   ]
  },
  {
   "cell_type": "code",
   "execution_count": 20,
   "metadata": {},
   "outputs": [],
   "source": [
    "def base_model(inputs):\n",
    "    \n",
    "    \n",
    "#     # connect a Dense layer with 128 neurons and a relu activation\n",
    "    x = tf.keras.layers.Dense('128', activation = 'relu')(inputs)\n",
    "    \n",
    "#     # connect another Dense layer with 128 neurons and a relu activation\n",
    "    x = tf.keras.layers.Dense('128', activation = 'relu')(x)\n",
    "    return x"
   ]
  },
  {
   "cell_type": "code",
   "execution_count": 21,
   "metadata": {},
   "outputs": [],
   "source": [
    "def final_model(inputs):\n",
    "    \n",
    "#     # get the base model\n",
    "    x = base_model(inputs)\n",
    "\n",
    "#     # connect the output Dense layer for regression\n",
    "    wine_quality = Dense(units='1', name='wine_quality')(x)\n",
    "\n",
    "#     # connect the output Dense layer for classification. this will use a sigmoid activation.\n",
    "    wine_type = Dense(units='1', activation= 'sigmoid', name='wine_type')(x)\n",
    "\n",
    "#     # define the model using the input and output layers\n",
    "    model = Model(inputs= inputs, outputs= [wine_quality, wine_type])\n",
    "\n",
    "    return model\n"
   ]
  },
  {
   "cell_type": "code",
   "execution_count": 22,
   "metadata": {},
   "outputs": [],
   "source": [
    "inputs = tf.keras.layers.Input(shape=(11,))\n",
    "rms = tf.keras.optimizers.RMSprop(lr=0.0001)\n",
    "model = final_model(inputs)\n",
    "\n",
    "model.compile(optimizer=rms, \n",
    "              loss = {'wine_type' : 'binary_crossentropy',\n",
    "                      'wine_quality' : 'mse'\n",
    "                     },\n",
    "              metrics = {'wine_type' : ['accuracy'],\n",
    "                         'wine_quality':tf.keras.metrics.RootMeanSquaredError(),\n",
    "                        }\n",
    "             )"
   ]
  },
  {
   "cell_type": "code",
   "execution_count": 23,
   "metadata": {
    "scrolled": false
   },
   "outputs": [
    {
     "name": "stdout",
     "output_type": "stream",
     "text": [
      "Epoch 1/180\n",
      "99/99 [==============================] - 1s 6ms/step - loss: 27.5664 - wine_quality_loss: 26.8916 - wine_type_loss: 0.6748 - wine_quality_root_mean_squared_error: 5.1857 - wine_type_accuracy: 0.6238 - val_loss: 20.5415 - val_wine_quality_loss: 19.8899 - val_wine_type_loss: 0.6516 - val_wine_quality_root_mean_squared_error: 4.4598 - val_wine_type_accuracy: 0.7396\n",
      "Epoch 2/180\n",
      "99/99 [==============================] - 0s 4ms/step - loss: 14.3074 - wine_quality_loss: 13.6855 - wine_type_loss: 0.6219 - wine_quality_root_mean_squared_error: 3.6994 - wine_type_accuracy: 0.7918 - val_loss: 9.3242 - val_wine_quality_loss: 8.7387 - val_wine_type_loss: 0.5856 - val_wine_quality_root_mean_squared_error: 2.9561 - val_wine_type_accuracy: 0.8622\n",
      "Epoch 3/180\n",
      "99/99 [==============================] - 0s 4ms/step - loss: 5.8971 - wine_quality_loss: 5.3612 - wine_type_loss: 0.5358 - wine_quality_root_mean_squared_error: 2.3154 - wine_type_accuracy: 0.8529 - val_loss: 3.9214 - val_wine_quality_loss: 3.4331 - val_wine_type_loss: 0.4883 - val_wine_quality_root_mean_squared_error: 1.8529 - val_wine_type_accuracy: 0.8663\n",
      "Epoch 4/180\n",
      "99/99 [==============================] - 0s 4ms/step - loss: 3.1650 - wine_quality_loss: 2.7340 - wine_type_loss: 0.4310 - wine_quality_root_mean_squared_error: 1.6535 - wine_type_accuracy: 0.8735 - val_loss: 2.7954 - val_wine_quality_loss: 2.4094 - val_wine_type_loss: 0.3860 - val_wine_quality_root_mean_squared_error: 1.5522 - val_wine_type_accuracy: 0.8875\n",
      "Epoch 5/180\n",
      "99/99 [==============================] - 0s 4ms/step - loss: 2.5168 - wine_quality_loss: 2.1788 - wine_type_loss: 0.3380 - wine_quality_root_mean_squared_error: 1.4761 - wine_type_accuracy: 0.9055 - val_loss: 2.3546 - val_wine_quality_loss: 2.0517 - val_wine_type_loss: 0.3029 - val_wine_quality_root_mean_squared_error: 1.4324 - val_wine_type_accuracy: 0.9301\n",
      "Epoch 6/180\n",
      "99/99 [==============================] - 0s 4ms/step - loss: 2.1400 - wine_quality_loss: 1.8740 - wine_type_loss: 0.2660 - wine_quality_root_mean_squared_error: 1.3689 - wine_type_accuracy: 0.9480 - val_loss: 2.0579 - val_wine_quality_loss: 1.8177 - val_wine_type_loss: 0.2402 - val_wine_quality_root_mean_squared_error: 1.3482 - val_wine_type_accuracy: 0.9656\n",
      "Epoch 7/180\n",
      "99/99 [==============================] - 0s 4ms/step - loss: 1.8905 - wine_quality_loss: 1.6789 - wine_type_loss: 0.2116 - wine_quality_root_mean_squared_error: 1.2957 - wine_type_accuracy: 0.9724 - val_loss: 1.8337 - val_wine_quality_loss: 1.6433 - val_wine_type_loss: 0.1904 - val_wine_quality_root_mean_squared_error: 1.2819 - val_wine_type_accuracy: 0.9767\n",
      "Epoch 8/180\n",
      "99/99 [==============================] - 0s 4ms/step - loss: 1.6944 - wine_quality_loss: 1.5249 - wine_type_loss: 0.1695 - wine_quality_root_mean_squared_error: 1.2349 - wine_type_accuracy: 0.9819 - val_loss: 1.6762 - val_wine_quality_loss: 1.5209 - val_wine_type_loss: 0.1553 - val_wine_quality_root_mean_squared_error: 1.2333 - val_wine_type_accuracy: 0.9848\n",
      "Epoch 9/180\n",
      "99/99 [==============================] - 0s 4ms/step - loss: 1.5412 - wine_quality_loss: 1.4030 - wine_type_loss: 0.1382 - wine_quality_root_mean_squared_error: 1.1845 - wine_type_accuracy: 0.9861 - val_loss: 1.5338 - val_wine_quality_loss: 1.4072 - val_wine_type_loss: 0.1266 - val_wine_quality_root_mean_squared_error: 1.1863 - val_wine_type_accuracy: 0.9878\n",
      "Epoch 10/180\n",
      "99/99 [==============================] - 0s 4ms/step - loss: 1.4260 - wine_quality_loss: 1.3116 - wine_type_loss: 0.1143 - wine_quality_root_mean_squared_error: 1.1453 - wine_type_accuracy: 0.9873 - val_loss: 1.4195 - val_wine_quality_loss: 1.3135 - val_wine_type_loss: 0.1060 - val_wine_quality_root_mean_squared_error: 1.1461 - val_wine_type_accuracy: 0.9899\n",
      "Epoch 11/180\n",
      "99/99 [==============================] - 0s 4ms/step - loss: 1.3213 - wine_quality_loss: 1.2242 - wine_type_loss: 0.0971 - wine_quality_root_mean_squared_error: 1.1065 - wine_type_accuracy: 0.9892 - val_loss: 1.3255 - val_wine_quality_loss: 1.2343 - val_wine_type_loss: 0.0912 - val_wine_quality_root_mean_squared_error: 1.1110 - val_wine_type_accuracy: 0.9919\n",
      "Epoch 12/180\n",
      "99/99 [==============================] - 0s 4ms/step - loss: 1.2378 - wine_quality_loss: 1.1532 - wine_type_loss: 0.0846 - wine_quality_root_mean_squared_error: 1.0739 - wine_type_accuracy: 0.9899 - val_loss: 1.2439 - val_wine_quality_loss: 1.1638 - val_wine_type_loss: 0.0802 - val_wine_quality_root_mean_squared_error: 1.0788 - val_wine_type_accuracy: 0.9919\n",
      "Epoch 13/180\n",
      "99/99 [==============================] - 0s 4ms/step - loss: 1.1634 - wine_quality_loss: 1.0882 - wine_type_loss: 0.0752 - wine_quality_root_mean_squared_error: 1.0432 - wine_type_accuracy: 0.9905 - val_loss: 1.1707 - val_wine_quality_loss: 1.0984 - val_wine_type_loss: 0.0723 - val_wine_quality_root_mean_squared_error: 1.0480 - val_wine_type_accuracy: 0.9929\n",
      "Epoch 14/180\n",
      "99/99 [==============================] - 0s 4ms/step - loss: 1.0947 - wine_quality_loss: 1.0265 - wine_type_loss: 0.0682 - wine_quality_root_mean_squared_error: 1.0132 - wine_type_accuracy: 0.9902 - val_loss: 1.1077 - val_wine_quality_loss: 1.0420 - val_wine_type_loss: 0.0657 - val_wine_quality_root_mean_squared_error: 1.0208 - val_wine_type_accuracy: 0.9929\n",
      "Epoch 15/180\n",
      "99/99 [==============================] - 0s 4ms/step - loss: 1.0317 - wine_quality_loss: 0.9691 - wine_type_loss: 0.0626 - wine_quality_root_mean_squared_error: 0.9844 - wine_type_accuracy: 0.9902 - val_loss: 1.0487 - val_wine_quality_loss: 0.9882 - val_wine_type_loss: 0.0605 - val_wine_quality_root_mean_squared_error: 0.9941 - val_wine_type_accuracy: 0.9929\n",
      "Epoch 16/180\n",
      "99/99 [==============================] - 0s 5ms/step - loss: 0.9808 - wine_quality_loss: 0.9226 - wine_type_loss: 0.0582 - wine_quality_root_mean_squared_error: 0.9605 - wine_type_accuracy: 0.9905 - val_loss: 0.9982 - val_wine_quality_loss: 0.9416 - val_wine_type_loss: 0.0566 - val_wine_quality_root_mean_squared_error: 0.9703 - val_wine_type_accuracy: 0.9939\n",
      "Epoch 17/180\n",
      "99/99 [==============================] - 0s 4ms/step - loss: 0.9269 - wine_quality_loss: 0.8724 - wine_type_loss: 0.0545 - wine_quality_root_mean_squared_error: 0.9340 - wine_type_accuracy: 0.9908 - val_loss: 0.9443 - val_wine_quality_loss: 0.8911 - val_wine_type_loss: 0.0531 - val_wine_quality_root_mean_squared_error: 0.9440 - val_wine_type_accuracy: 0.9939\n",
      "Epoch 18/180\n",
      "99/99 [==============================] - 0s 4ms/step - loss: 0.8791 - wine_quality_loss: 0.8278 - wine_type_loss: 0.0513 - wine_quality_root_mean_squared_error: 0.9099 - wine_type_accuracy: 0.9908 - val_loss: 0.9005 - val_wine_quality_loss: 0.8501 - val_wine_type_loss: 0.0504 - val_wine_quality_root_mean_squared_error: 0.9220 - val_wine_type_accuracy: 0.9939\n",
      "Epoch 19/180\n",
      "99/99 [==============================] - 0s 4ms/step - loss: 0.8339 - wine_quality_loss: 0.7851 - wine_type_loss: 0.0488 - wine_quality_root_mean_squared_error: 0.8861 - wine_type_accuracy: 0.9908 - val_loss: 0.8601 - val_wine_quality_loss: 0.8118 - val_wine_type_loss: 0.0482 - val_wine_quality_root_mean_squared_error: 0.9010 - val_wine_type_accuracy: 0.9939\n",
      "Epoch 20/180\n",
      "99/99 [==============================] - 0s 4ms/step - loss: 0.7932 - wine_quality_loss: 0.7464 - wine_type_loss: 0.0467 - wine_quality_root_mean_squared_error: 0.8640 - wine_type_accuracy: 0.9914 - val_loss: 0.8146 - val_wine_quality_loss: 0.7683 - val_wine_type_loss: 0.0463 - val_wine_quality_root_mean_squared_error: 0.8765 - val_wine_type_accuracy: 0.9939\n",
      "Epoch 21/180\n",
      "99/99 [==============================] - 0s 4ms/step - loss: 0.7542 - wine_quality_loss: 0.7094 - wine_type_loss: 0.0448 - wine_quality_root_mean_squared_error: 0.8422 - wine_type_accuracy: 0.9911 - val_loss: 0.7770 - val_wine_quality_loss: 0.7324 - val_wine_type_loss: 0.0447 - val_wine_quality_root_mean_squared_error: 0.8558 - val_wine_type_accuracy: 0.9939\n",
      "Epoch 22/180\n",
      "99/99 [==============================] - 0s 4ms/step - loss: 0.7186 - wine_quality_loss: 0.6754 - wine_type_loss: 0.0432 - wine_quality_root_mean_squared_error: 0.8218 - wine_type_accuracy: 0.9914 - val_loss: 0.7390 - val_wine_quality_loss: 0.6958 - val_wine_type_loss: 0.0432 - val_wine_quality_root_mean_squared_error: 0.8341 - val_wine_type_accuracy: 0.9939\n"
     ]
    },
    {
     "name": "stdout",
     "output_type": "stream",
     "text": [
      "Epoch 23/180\n",
      "99/99 [==============================] - 0s 4ms/step - loss: 0.6874 - wine_quality_loss: 0.6455 - wine_type_loss: 0.0419 - wine_quality_root_mean_squared_error: 0.8034 - wine_type_accuracy: 0.9918 - val_loss: 0.7137 - val_wine_quality_loss: 0.6717 - val_wine_type_loss: 0.0420 - val_wine_quality_root_mean_squared_error: 0.8196 - val_wine_type_accuracy: 0.9939\n",
      "Epoch 24/180\n",
      "99/99 [==============================] - 0s 4ms/step - loss: 0.6564 - wine_quality_loss: 0.6157 - wine_type_loss: 0.0407 - wine_quality_root_mean_squared_error: 0.7847 - wine_type_accuracy: 0.9921 - val_loss: 0.6801 - val_wine_quality_loss: 0.6391 - val_wine_type_loss: 0.0410 - val_wine_quality_root_mean_squared_error: 0.7994 - val_wine_type_accuracy: 0.9939\n",
      "Epoch 25/180\n",
      "99/99 [==============================] - 0s 4ms/step - loss: 0.6270 - wine_quality_loss: 0.5873 - wine_type_loss: 0.0397 - wine_quality_root_mean_squared_error: 0.7664 - wine_type_accuracy: 0.9924 - val_loss: 0.6552 - val_wine_quality_loss: 0.6151 - val_wine_type_loss: 0.0401 - val_wine_quality_root_mean_squared_error: 0.7843 - val_wine_type_accuracy: 0.9939\n",
      "Epoch 26/180\n",
      "99/99 [==============================] - 0s 4ms/step - loss: 0.6040 - wine_quality_loss: 0.5652 - wine_type_loss: 0.0388 - wine_quality_root_mean_squared_error: 0.7518 - wine_type_accuracy: 0.9924 - val_loss: 0.6281 - val_wine_quality_loss: 0.5887 - val_wine_type_loss: 0.0393 - val_wine_quality_root_mean_squared_error: 0.7673 - val_wine_type_accuracy: 0.9939\n",
      "Epoch 27/180\n",
      "99/99 [==============================] - 0s 4ms/step - loss: 0.5770 - wine_quality_loss: 0.5391 - wine_type_loss: 0.0380 - wine_quality_root_mean_squared_error: 0.7342 - wine_type_accuracy: 0.9924 - val_loss: 0.6185 - val_wine_quality_loss: 0.5798 - val_wine_type_loss: 0.0387 - val_wine_quality_root_mean_squared_error: 0.7615 - val_wine_type_accuracy: 0.9939\n",
      "Epoch 28/180\n",
      "99/99 [==============================] - 0s 4ms/step - loss: 0.5572 - wine_quality_loss: 0.5199 - wine_type_loss: 0.0373 - wine_quality_root_mean_squared_error: 0.7210 - wine_type_accuracy: 0.9924 - val_loss: 0.5877 - val_wine_quality_loss: 0.5496 - val_wine_type_loss: 0.0381 - val_wine_quality_root_mean_squared_error: 0.7413 - val_wine_type_accuracy: 0.9939\n",
      "Epoch 29/180\n",
      "99/99 [==============================] - 0s 4ms/step - loss: 0.5381 - wine_quality_loss: 0.5015 - wine_type_loss: 0.0366 - wine_quality_root_mean_squared_error: 0.7082 - wine_type_accuracy: 0.9927 - val_loss: 0.5690 - val_wine_quality_loss: 0.5314 - val_wine_type_loss: 0.0375 - val_wine_quality_root_mean_squared_error: 0.7290 - val_wine_type_accuracy: 0.9939\n",
      "Epoch 30/180\n",
      "99/99 [==============================] - 0s 4ms/step - loss: 0.5183 - wine_quality_loss: 0.4823 - wine_type_loss: 0.0360 - wine_quality_root_mean_squared_error: 0.6945 - wine_type_accuracy: 0.9924 - val_loss: 0.5624 - val_wine_quality_loss: 0.5253 - val_wine_type_loss: 0.0371 - val_wine_quality_root_mean_squared_error: 0.7248 - val_wine_type_accuracy: 0.9949\n",
      "Epoch 31/180\n",
      "99/99 [==============================] - 0s 4ms/step - loss: 0.5030 - wine_quality_loss: 0.4676 - wine_type_loss: 0.0354 - wine_quality_root_mean_squared_error: 0.6838 - wine_type_accuracy: 0.9927 - val_loss: 0.5339 - val_wine_quality_loss: 0.4973 - val_wine_type_loss: 0.0366 - val_wine_quality_root_mean_squared_error: 0.7052 - val_wine_type_accuracy: 0.9939\n",
      "Epoch 32/180\n",
      "99/99 [==============================] - 0s 4ms/step - loss: 0.4881 - wine_quality_loss: 0.4532 - wine_type_loss: 0.0350 - wine_quality_root_mean_squared_error: 0.6732 - wine_type_accuracy: 0.9927 - val_loss: 0.5208 - val_wine_quality_loss: 0.4846 - val_wine_type_loss: 0.0362 - val_wine_quality_root_mean_squared_error: 0.6962 - val_wine_type_accuracy: 0.9949\n",
      "Epoch 33/180\n",
      "99/99 [==============================] - 0s 4ms/step - loss: 0.4742 - wine_quality_loss: 0.4397 - wine_type_loss: 0.0345 - wine_quality_root_mean_squared_error: 0.6631 - wine_type_accuracy: 0.9933 - val_loss: 0.5057 - val_wine_quality_loss: 0.4699 - val_wine_type_loss: 0.0357 - val_wine_quality_root_mean_squared_error: 0.6855 - val_wine_type_accuracy: 0.9949\n",
      "Epoch 34/180\n",
      "99/99 [==============================] - 0s 4ms/step - loss: 0.4600 - wine_quality_loss: 0.4259 - wine_type_loss: 0.0341 - wine_quality_root_mean_squared_error: 0.6526 - wine_type_accuracy: 0.9937 - val_loss: 0.4913 - val_wine_quality_loss: 0.4559 - val_wine_type_loss: 0.0354 - val_wine_quality_root_mean_squared_error: 0.6752 - val_wine_type_accuracy: 0.9949\n",
      "Epoch 35/180\n",
      "99/99 [==============================] - 0s 4ms/step - loss: 0.4480 - wine_quality_loss: 0.4143 - wine_type_loss: 0.0337 - wine_quality_root_mean_squared_error: 0.6436 - wine_type_accuracy: 0.9933 - val_loss: 0.4833 - val_wine_quality_loss: 0.4482 - val_wine_type_loss: 0.0351 - val_wine_quality_root_mean_squared_error: 0.6695 - val_wine_type_accuracy: 0.9949\n",
      "Epoch 36/180\n",
      "99/99 [==============================] - 0s 4ms/step - loss: 0.4378 - wine_quality_loss: 0.4044 - wine_type_loss: 0.0333 - wine_quality_root_mean_squared_error: 0.6360 - wine_type_accuracy: 0.9940 - val_loss: 0.4753 - val_wine_quality_loss: 0.4404 - val_wine_type_loss: 0.0349 - val_wine_quality_root_mean_squared_error: 0.6636 - val_wine_type_accuracy: 0.9959\n",
      "Epoch 37/180\n",
      "99/99 [==============================] - 0s 4ms/step - loss: 0.4278 - wine_quality_loss: 0.3949 - wine_type_loss: 0.0330 - wine_quality_root_mean_squared_error: 0.6284 - wine_type_accuracy: 0.9940 - val_loss: 0.4739 - val_wine_quality_loss: 0.4394 - val_wine_type_loss: 0.0345 - val_wine_quality_root_mean_squared_error: 0.6628 - val_wine_type_accuracy: 0.9949\n",
      "Epoch 38/180\n",
      "99/99 [==============================] - 0s 3ms/step - loss: 0.4192 - wine_quality_loss: 0.3865 - wine_type_loss: 0.0327 - wine_quality_root_mean_squared_error: 0.6217 - wine_type_accuracy: 0.9940 - val_loss: 0.4631 - val_wine_quality_loss: 0.4287 - val_wine_type_loss: 0.0344 - val_wine_quality_root_mean_squared_error: 0.6548 - val_wine_type_accuracy: 0.9949\n",
      "Epoch 39/180\n",
      "99/99 [==============================] - 0s 4ms/step - loss: 0.4107 - wine_quality_loss: 0.3784 - wine_type_loss: 0.0323 - wine_quality_root_mean_squared_error: 0.6151 - wine_type_accuracy: 0.9940 - val_loss: 0.4446 - val_wine_quality_loss: 0.4106 - val_wine_type_loss: 0.0340 - val_wine_quality_root_mean_squared_error: 0.6407 - val_wine_type_accuracy: 0.9949\n",
      "Epoch 40/180\n",
      "99/99 [==============================] - 0s 4ms/step - loss: 0.4023 - wine_quality_loss: 0.3703 - wine_type_loss: 0.0320 - wine_quality_root_mean_squared_error: 0.6085 - wine_type_accuracy: 0.9940 - val_loss: 0.4377 - val_wine_quality_loss: 0.4039 - val_wine_type_loss: 0.0338 - val_wine_quality_root_mean_squared_error: 0.6355 - val_wine_type_accuracy: 0.9949\n",
      "Epoch 41/180\n",
      "99/99 [==============================] - 0s 4ms/step - loss: 0.3960 - wine_quality_loss: 0.3643 - wine_type_loss: 0.0318 - wine_quality_root_mean_squared_error: 0.6036 - wine_type_accuracy: 0.9940 - val_loss: 0.4337 - val_wine_quality_loss: 0.4001 - val_wine_type_loss: 0.0336 - val_wine_quality_root_mean_squared_error: 0.6325 - val_wine_type_accuracy: 0.9949\n",
      "Epoch 42/180\n",
      "99/99 [==============================] - 0s 5ms/step - loss: 0.3899 - wine_quality_loss: 0.3584 - wine_type_loss: 0.0315 - wine_quality_root_mean_squared_error: 0.5987 - wine_type_accuracy: 0.9940 - val_loss: 0.4407 - val_wine_quality_loss: 0.4072 - val_wine_type_loss: 0.0335 - val_wine_quality_root_mean_squared_error: 0.6381 - val_wine_type_accuracy: 0.9949\n",
      "Epoch 43/180\n",
      "99/99 [==============================] - 0s 4ms/step - loss: 0.3851 - wine_quality_loss: 0.3538 - wine_type_loss: 0.0313 - wine_quality_root_mean_squared_error: 0.5948 - wine_type_accuracy: 0.9940 - val_loss: 0.4287 - val_wine_quality_loss: 0.3955 - val_wine_type_loss: 0.0332 - val_wine_quality_root_mean_squared_error: 0.6288 - val_wine_type_accuracy: 0.9959\n",
      "Epoch 44/180\n",
      "99/99 [==============================] - 0s 4ms/step - loss: 0.3807 - wine_quality_loss: 0.3497 - wine_type_loss: 0.0310 - wine_quality_root_mean_squared_error: 0.5913 - wine_type_accuracy: 0.9940 - val_loss: 0.4169 - val_wine_quality_loss: 0.3838 - val_wine_type_loss: 0.0331 - val_wine_quality_root_mean_squared_error: 0.6195 - val_wine_type_accuracy: 0.9959\n"
     ]
    },
    {
     "name": "stdout",
     "output_type": "stream",
     "text": [
      "Epoch 45/180\n",
      "99/99 [==============================] - 0s 4ms/step - loss: 0.3759 - wine_quality_loss: 0.3451 - wine_type_loss: 0.0308 - wine_quality_root_mean_squared_error: 0.5875 - wine_type_accuracy: 0.9943 - val_loss: 0.4167 - val_wine_quality_loss: 0.3838 - val_wine_type_loss: 0.0328 - val_wine_quality_root_mean_squared_error: 0.6196 - val_wine_type_accuracy: 0.9959\n",
      "Epoch 46/180\n",
      "99/99 [==============================] - 0s 4ms/step - loss: 0.3720 - wine_quality_loss: 0.3414 - wine_type_loss: 0.0305 - wine_quality_root_mean_squared_error: 0.5843 - wine_type_accuracy: 0.9940 - val_loss: 0.4120 - val_wine_quality_loss: 0.3794 - val_wine_type_loss: 0.0327 - val_wine_quality_root_mean_squared_error: 0.6159 - val_wine_type_accuracy: 0.9959\n",
      "Epoch 47/180\n",
      "99/99 [==============================] - 0s 4ms/step - loss: 0.3675 - wine_quality_loss: 0.3372 - wine_type_loss: 0.0304 - wine_quality_root_mean_squared_error: 0.5807 - wine_type_accuracy: 0.9940 - val_loss: 0.4103 - val_wine_quality_loss: 0.3777 - val_wine_type_loss: 0.0326 - val_wine_quality_root_mean_squared_error: 0.6146 - val_wine_type_accuracy: 0.9959\n",
      "Epoch 48/180\n",
      "99/99 [==============================] - 0s 4ms/step - loss: 0.3651 - wine_quality_loss: 0.3349 - wine_type_loss: 0.0302 - wine_quality_root_mean_squared_error: 0.5787 - wine_type_accuracy: 0.9943 - val_loss: 0.4097 - val_wine_quality_loss: 0.3773 - val_wine_type_loss: 0.0324 - val_wine_quality_root_mean_squared_error: 0.6143 - val_wine_type_accuracy: 0.9959\n",
      "Epoch 49/180\n",
      "99/99 [==============================] - 0s 4ms/step - loss: 0.3614 - wine_quality_loss: 0.3315 - wine_type_loss: 0.0300 - wine_quality_root_mean_squared_error: 0.5757 - wine_type_accuracy: 0.9940 - val_loss: 0.4057 - val_wine_quality_loss: 0.3734 - val_wine_type_loss: 0.0323 - val_wine_quality_root_mean_squared_error: 0.6111 - val_wine_type_accuracy: 0.9959\n",
      "Epoch 50/180\n",
      "99/99 [==============================] - 0s 4ms/step - loss: 0.3601 - wine_quality_loss: 0.3302 - wine_type_loss: 0.0298 - wine_quality_root_mean_squared_error: 0.5747 - wine_type_accuracy: 0.9943 - val_loss: 0.4019 - val_wine_quality_loss: 0.3699 - val_wine_type_loss: 0.0320 - val_wine_quality_root_mean_squared_error: 0.6082 - val_wine_type_accuracy: 0.9959\n",
      "Epoch 51/180\n",
      "99/99 [==============================] - 0s 4ms/step - loss: 0.3569 - wine_quality_loss: 0.3274 - wine_type_loss: 0.0295 - wine_quality_root_mean_squared_error: 0.5722 - wine_type_accuracy: 0.9943 - val_loss: 0.3966 - val_wine_quality_loss: 0.3647 - val_wine_type_loss: 0.0319 - val_wine_quality_root_mean_squared_error: 0.6039 - val_wine_type_accuracy: 0.9949\n",
      "Epoch 52/180\n",
      "99/99 [==============================] - 0s 4ms/step - loss: 0.3546 - wine_quality_loss: 0.3251 - wine_type_loss: 0.0294 - wine_quality_root_mean_squared_error: 0.5702 - wine_type_accuracy: 0.9943 - val_loss: 0.3976 - val_wine_quality_loss: 0.3658 - val_wine_type_loss: 0.0318 - val_wine_quality_root_mean_squared_error: 0.6048 - val_wine_type_accuracy: 0.9959\n",
      "Epoch 53/180\n",
      "99/99 [==============================] - 0s 4ms/step - loss: 0.3519 - wine_quality_loss: 0.3226 - wine_type_loss: 0.0293 - wine_quality_root_mean_squared_error: 0.5680 - wine_type_accuracy: 0.9946 - val_loss: 0.3949 - val_wine_quality_loss: 0.3632 - val_wine_type_loss: 0.0317 - val_wine_quality_root_mean_squared_error: 0.6026 - val_wine_type_accuracy: 0.9959\n",
      "Epoch 54/180\n",
      "99/99 [==============================] - 0s 4ms/step - loss: 0.3505 - wine_quality_loss: 0.3213 - wine_type_loss: 0.0291 - wine_quality_root_mean_squared_error: 0.5669 - wine_type_accuracy: 0.9943 - val_loss: 0.3884 - val_wine_quality_loss: 0.3569 - val_wine_type_loss: 0.0316 - val_wine_quality_root_mean_squared_error: 0.5974 - val_wine_type_accuracy: 0.9959\n",
      "Epoch 55/180\n",
      "99/99 [==============================] - 0s 4ms/step - loss: 0.3480 - wine_quality_loss: 0.3191 - wine_type_loss: 0.0290 - wine_quality_root_mean_squared_error: 0.5649 - wine_type_accuracy: 0.9943 - val_loss: 0.3880 - val_wine_quality_loss: 0.3566 - val_wine_type_loss: 0.0315 - val_wine_quality_root_mean_squared_error: 0.5971 - val_wine_type_accuracy: 0.9959\n",
      "Epoch 56/180\n",
      "99/99 [==============================] - 0s 4ms/step - loss: 0.3454 - wine_quality_loss: 0.3166 - wine_type_loss: 0.0288 - wine_quality_root_mean_squared_error: 0.5627 - wine_type_accuracy: 0.9946 - val_loss: 0.3899 - val_wine_quality_loss: 0.3585 - val_wine_type_loss: 0.0314 - val_wine_quality_root_mean_squared_error: 0.5987 - val_wine_type_accuracy: 0.9959\n",
      "Epoch 57/180\n",
      "99/99 [==============================] - 0s 4ms/step - loss: 0.3447 - wine_quality_loss: 0.3161 - wine_type_loss: 0.0286 - wine_quality_root_mean_squared_error: 0.5622 - wine_type_accuracy: 0.9949 - val_loss: 0.3968 - val_wine_quality_loss: 0.3656 - val_wine_type_loss: 0.0312 - val_wine_quality_root_mean_squared_error: 0.6046 - val_wine_type_accuracy: 0.9959\n",
      "Epoch 58/180\n",
      "99/99 [==============================] - 0s 3ms/step - loss: 0.3438 - wine_quality_loss: 0.3154 - wine_type_loss: 0.0284 - wine_quality_root_mean_squared_error: 0.5616 - wine_type_accuracy: 0.9949 - val_loss: 0.3854 - val_wine_quality_loss: 0.3543 - val_wine_type_loss: 0.0311 - val_wine_quality_root_mean_squared_error: 0.5952 - val_wine_type_accuracy: 0.9959\n",
      "Epoch 59/180\n",
      "99/99 [==============================] - 0s 4ms/step - loss: 0.3412 - wine_quality_loss: 0.3130 - wine_type_loss: 0.0283 - wine_quality_root_mean_squared_error: 0.5594 - wine_type_accuracy: 0.9949 - val_loss: 0.3840 - val_wine_quality_loss: 0.3531 - val_wine_type_loss: 0.0310 - val_wine_quality_root_mean_squared_error: 0.5942 - val_wine_type_accuracy: 0.9959\n",
      "Epoch 60/180\n",
      "99/99 [==============================] - 0s 4ms/step - loss: 0.3411 - wine_quality_loss: 0.3129 - wine_type_loss: 0.0281 - wine_quality_root_mean_squared_error: 0.5594 - wine_type_accuracy: 0.9952 - val_loss: 0.3827 - val_wine_quality_loss: 0.3518 - val_wine_type_loss: 0.0308 - val_wine_quality_root_mean_squared_error: 0.5931 - val_wine_type_accuracy: 0.9959\n",
      "Epoch 61/180\n",
      "99/99 [==============================] - 0s 4ms/step - loss: 0.3390 - wine_quality_loss: 0.3110 - wine_type_loss: 0.0279 - wine_quality_root_mean_squared_error: 0.5577 - wine_type_accuracy: 0.9952 - val_loss: 0.3825 - val_wine_quality_loss: 0.3518 - val_wine_type_loss: 0.0307 - val_wine_quality_root_mean_squared_error: 0.5931 - val_wine_type_accuracy: 0.9959\n",
      "Epoch 62/180\n",
      "99/99 [==============================] - 0s 4ms/step - loss: 0.3366 - wine_quality_loss: 0.3088 - wine_type_loss: 0.0278 - wine_quality_root_mean_squared_error: 0.5557 - wine_type_accuracy: 0.9952 - val_loss: 0.3999 - val_wine_quality_loss: 0.3693 - val_wine_type_loss: 0.0306 - val_wine_quality_root_mean_squared_error: 0.6077 - val_wine_type_accuracy: 0.9959\n",
      "Epoch 63/180\n",
      "99/99 [==============================] - 0s 4ms/step - loss: 0.3367 - wine_quality_loss: 0.3091 - wine_type_loss: 0.0276 - wine_quality_root_mean_squared_error: 0.5560 - wine_type_accuracy: 0.9952 - val_loss: 0.3771 - val_wine_quality_loss: 0.3465 - val_wine_type_loss: 0.0305 - val_wine_quality_root_mean_squared_error: 0.5887 - val_wine_type_accuracy: 0.9959\n",
      "Epoch 64/180\n",
      "99/99 [==============================] - 0s 4ms/step - loss: 0.3351 - wine_quality_loss: 0.3076 - wine_type_loss: 0.0275 - wine_quality_root_mean_squared_error: 0.5546 - wine_type_accuracy: 0.9952 - val_loss: 0.3808 - val_wine_quality_loss: 0.3504 - val_wine_type_loss: 0.0304 - val_wine_quality_root_mean_squared_error: 0.5919 - val_wine_type_accuracy: 0.9959\n",
      "Epoch 65/180\n",
      "99/99 [==============================] - 0s 4ms/step - loss: 0.3335 - wine_quality_loss: 0.3062 - wine_type_loss: 0.0273 - wine_quality_root_mean_squared_error: 0.5534 - wine_type_accuracy: 0.9952 - val_loss: 0.3769 - val_wine_quality_loss: 0.3465 - val_wine_type_loss: 0.0304 - val_wine_quality_root_mean_squared_error: 0.5887 - val_wine_type_accuracy: 0.9959\n",
      "Epoch 66/180\n",
      "99/99 [==============================] - 0s 4ms/step - loss: 0.3324 - wine_quality_loss: 0.3052 - wine_type_loss: 0.0272 - wine_quality_root_mean_squared_error: 0.5525 - wine_type_accuracy: 0.9952 - val_loss: 0.3787 - val_wine_quality_loss: 0.3485 - val_wine_type_loss: 0.0302 - val_wine_quality_root_mean_squared_error: 0.5903 - val_wine_type_accuracy: 0.9959\n"
     ]
    },
    {
     "name": "stdout",
     "output_type": "stream",
     "text": [
      "Epoch 67/180\n",
      "99/99 [==============================] - 0s 4ms/step - loss: 0.3301 - wine_quality_loss: 0.3031 - wine_type_loss: 0.0270 - wine_quality_root_mean_squared_error: 0.5505 - wine_type_accuracy: 0.9952 - val_loss: 0.3760 - val_wine_quality_loss: 0.3459 - val_wine_type_loss: 0.0301 - val_wine_quality_root_mean_squared_error: 0.5881 - val_wine_type_accuracy: 0.9959\n",
      "Epoch 68/180\n",
      "99/99 [==============================] - 0s 4ms/step - loss: 0.3311 - wine_quality_loss: 0.3042 - wine_type_loss: 0.0269 - wine_quality_root_mean_squared_error: 0.5516 - wine_type_accuracy: 0.9952 - val_loss: 0.3754 - val_wine_quality_loss: 0.3454 - val_wine_type_loss: 0.0300 - val_wine_quality_root_mean_squared_error: 0.5877 - val_wine_type_accuracy: 0.9959\n",
      "Epoch 69/180\n",
      "99/99 [==============================] - 0s 4ms/step - loss: 0.3295 - wine_quality_loss: 0.3027 - wine_type_loss: 0.0268 - wine_quality_root_mean_squared_error: 0.5502 - wine_type_accuracy: 0.9952 - val_loss: 0.3758 - val_wine_quality_loss: 0.3458 - val_wine_type_loss: 0.0300 - val_wine_quality_root_mean_squared_error: 0.5881 - val_wine_type_accuracy: 0.9959\n",
      "Epoch 70/180\n",
      "99/99 [==============================] - 0s 4ms/step - loss: 0.3274 - wine_quality_loss: 0.3008 - wine_type_loss: 0.0266 - wine_quality_root_mean_squared_error: 0.5485 - wine_type_accuracy: 0.9952 - val_loss: 0.3748 - val_wine_quality_loss: 0.3449 - val_wine_type_loss: 0.0299 - val_wine_quality_root_mean_squared_error: 0.5873 - val_wine_type_accuracy: 0.9959\n",
      "Epoch 71/180\n",
      "99/99 [==============================] - 0s 4ms/step - loss: 0.3276 - wine_quality_loss: 0.3011 - wine_type_loss: 0.0265 - wine_quality_root_mean_squared_error: 0.5487 - wine_type_accuracy: 0.9952 - val_loss: 0.3740 - val_wine_quality_loss: 0.3442 - val_wine_type_loss: 0.0298 - val_wine_quality_root_mean_squared_error: 0.5867 - val_wine_type_accuracy: 0.9959\n",
      "Epoch 72/180\n",
      "99/99 [==============================] - 0s 4ms/step - loss: 0.3269 - wine_quality_loss: 0.3005 - wine_type_loss: 0.0264 - wine_quality_root_mean_squared_error: 0.5482 - wine_type_accuracy: 0.9952 - val_loss: 0.3743 - val_wine_quality_loss: 0.3446 - val_wine_type_loss: 0.0297 - val_wine_quality_root_mean_squared_error: 0.5870 - val_wine_type_accuracy: 0.9959\n",
      "Epoch 73/180\n",
      "99/99 [==============================] - 0s 4ms/step - loss: 0.3255 - wine_quality_loss: 0.2993 - wine_type_loss: 0.0262 - wine_quality_root_mean_squared_error: 0.5471 - wine_type_accuracy: 0.9952 - val_loss: 0.3780 - val_wine_quality_loss: 0.3483 - val_wine_type_loss: 0.0296 - val_wine_quality_root_mean_squared_error: 0.5902 - val_wine_type_accuracy: 0.9959\n",
      "Epoch 74/180\n",
      "99/99 [==============================] - 0s 4ms/step - loss: 0.3244 - wine_quality_loss: 0.2982 - wine_type_loss: 0.0261 - wine_quality_root_mean_squared_error: 0.5461 - wine_type_accuracy: 0.9952 - val_loss: 0.3757 - val_wine_quality_loss: 0.3462 - val_wine_type_loss: 0.0295 - val_wine_quality_root_mean_squared_error: 0.5884 - val_wine_type_accuracy: 0.9959\n",
      "Epoch 75/180\n",
      "99/99 [==============================] - 0s 4ms/step - loss: 0.3244 - wine_quality_loss: 0.2985 - wine_type_loss: 0.0259 - wine_quality_root_mean_squared_error: 0.5464 - wine_type_accuracy: 0.9952 - val_loss: 0.3701 - val_wine_quality_loss: 0.3407 - val_wine_type_loss: 0.0294 - val_wine_quality_root_mean_squared_error: 0.5837 - val_wine_type_accuracy: 0.9959\n",
      "Epoch 76/180\n",
      "99/99 [==============================] - 0s 4ms/step - loss: 0.3226 - wine_quality_loss: 0.2968 - wine_type_loss: 0.0258 - wine_quality_root_mean_squared_error: 0.5448 - wine_type_accuracy: 0.9952 - val_loss: 0.3739 - val_wine_quality_loss: 0.3446 - val_wine_type_loss: 0.0293 - val_wine_quality_root_mean_squared_error: 0.5870 - val_wine_type_accuracy: 0.9959\n",
      "Epoch 77/180\n",
      "99/99 [==============================] - 0s 4ms/step - loss: 0.3224 - wine_quality_loss: 0.2967 - wine_type_loss: 0.0257 - wine_quality_root_mean_squared_error: 0.5447 - wine_type_accuracy: 0.9952 - val_loss: 0.3764 - val_wine_quality_loss: 0.3472 - val_wine_type_loss: 0.0293 - val_wine_quality_root_mean_squared_error: 0.5892 - val_wine_type_accuracy: 0.9959\n",
      "Epoch 78/180\n",
      "99/99 [==============================] - 0s 4ms/step - loss: 0.3205 - wine_quality_loss: 0.2949 - wine_type_loss: 0.0256 - wine_quality_root_mean_squared_error: 0.5430 - wine_type_accuracy: 0.9952 - val_loss: 0.3715 - val_wine_quality_loss: 0.3424 - val_wine_type_loss: 0.0292 - val_wine_quality_root_mean_squared_error: 0.5851 - val_wine_type_accuracy: 0.9959\n",
      "Epoch 79/180\n",
      "99/99 [==============================] - 0s 4ms/step - loss: 0.3203 - wine_quality_loss: 0.2949 - wine_type_loss: 0.0254 - wine_quality_root_mean_squared_error: 0.5430 - wine_type_accuracy: 0.9952 - val_loss: 0.3715 - val_wine_quality_loss: 0.3424 - val_wine_type_loss: 0.0291 - val_wine_quality_root_mean_squared_error: 0.5851 - val_wine_type_accuracy: 0.9959\n",
      "Epoch 80/180\n",
      "99/99 [==============================] - 0s 4ms/step - loss: 0.3199 - wine_quality_loss: 0.2946 - wine_type_loss: 0.0253 - wine_quality_root_mean_squared_error: 0.5428 - wine_type_accuracy: 0.9952 - val_loss: 0.3767 - val_wine_quality_loss: 0.3476 - val_wine_type_loss: 0.0290 - val_wine_quality_root_mean_squared_error: 0.5896 - val_wine_type_accuracy: 0.9959\n",
      "Epoch 81/180\n",
      "99/99 [==============================] - 0s 4ms/step - loss: 0.3198 - wine_quality_loss: 0.2946 - wine_type_loss: 0.0252 - wine_quality_root_mean_squared_error: 0.5428 - wine_type_accuracy: 0.9952 - val_loss: 0.3723 - val_wine_quality_loss: 0.3433 - val_wine_type_loss: 0.0289 - val_wine_quality_root_mean_squared_error: 0.5859 - val_wine_type_accuracy: 0.9959\n",
      "Epoch 82/180\n",
      "99/99 [==============================] - 0s 4ms/step - loss: 0.3188 - wine_quality_loss: 0.2937 - wine_type_loss: 0.0251 - wine_quality_root_mean_squared_error: 0.5420 - wine_type_accuracy: 0.9952 - val_loss: 0.3695 - val_wine_quality_loss: 0.3406 - val_wine_type_loss: 0.0289 - val_wine_quality_root_mean_squared_error: 0.5836 - val_wine_type_accuracy: 0.9959\n",
      "Epoch 83/180\n",
      "99/99 [==============================] - 0s 4ms/step - loss: 0.3177 - wine_quality_loss: 0.2927 - wine_type_loss: 0.0250 - wine_quality_root_mean_squared_error: 0.5410 - wine_type_accuracy: 0.9956 - val_loss: 0.3681 - val_wine_quality_loss: 0.3392 - val_wine_type_loss: 0.0288 - val_wine_quality_root_mean_squared_error: 0.5824 - val_wine_type_accuracy: 0.9959\n",
      "Epoch 84/180\n",
      "99/99 [==============================] - 0s 4ms/step - loss: 0.3177 - wine_quality_loss: 0.2928 - wine_type_loss: 0.0249 - wine_quality_root_mean_squared_error: 0.5411 - wine_type_accuracy: 0.9956 - val_loss: 0.3698 - val_wine_quality_loss: 0.3410 - val_wine_type_loss: 0.0288 - val_wine_quality_root_mean_squared_error: 0.5839 - val_wine_type_accuracy: 0.9959\n",
      "Epoch 85/180\n",
      "99/99 [==============================] - 0s 4ms/step - loss: 0.3155 - wine_quality_loss: 0.2908 - wine_type_loss: 0.0247 - wine_quality_root_mean_squared_error: 0.5393 - wine_type_accuracy: 0.9956 - val_loss: 0.3711 - val_wine_quality_loss: 0.3424 - val_wine_type_loss: 0.0287 - val_wine_quality_root_mean_squared_error: 0.5852 - val_wine_type_accuracy: 0.9959\n",
      "Epoch 86/180\n",
      "99/99 [==============================] - 0s 4ms/step - loss: 0.3155 - wine_quality_loss: 0.2909 - wine_type_loss: 0.0246 - wine_quality_root_mean_squared_error: 0.5393 - wine_type_accuracy: 0.9956 - val_loss: 0.3686 - val_wine_quality_loss: 0.3400 - val_wine_type_loss: 0.0287 - val_wine_quality_root_mean_squared_error: 0.5831 - val_wine_type_accuracy: 0.9959\n",
      "Epoch 87/180\n",
      "99/99 [==============================] - 0s 4ms/step - loss: 0.3139 - wine_quality_loss: 0.2893 - wine_type_loss: 0.0245 - wine_quality_root_mean_squared_error: 0.5379 - wine_type_accuracy: 0.9959 - val_loss: 0.3727 - val_wine_quality_loss: 0.3441 - val_wine_type_loss: 0.0285 - val_wine_quality_root_mean_squared_error: 0.5866 - val_wine_type_accuracy: 0.9970\n",
      "Epoch 88/180\n",
      "99/99 [==============================] - 0s 4ms/step - loss: 0.3153 - wine_quality_loss: 0.2909 - wine_type_loss: 0.0244 - wine_quality_root_mean_squared_error: 0.5394 - wine_type_accuracy: 0.9956 - val_loss: 0.3661 - val_wine_quality_loss: 0.3375 - val_wine_type_loss: 0.0285 - val_wine_quality_root_mean_squared_error: 0.5810 - val_wine_type_accuracy: 0.9959\n"
     ]
    },
    {
     "name": "stdout",
     "output_type": "stream",
     "text": [
      "Epoch 89/180\n",
      "99/99 [==============================] - 0s 4ms/step - loss: 0.3142 - wine_quality_loss: 0.2899 - wine_type_loss: 0.0243 - wine_quality_root_mean_squared_error: 0.5384 - wine_type_accuracy: 0.9959 - val_loss: 0.3689 - val_wine_quality_loss: 0.3405 - val_wine_type_loss: 0.0284 - val_wine_quality_root_mean_squared_error: 0.5836 - val_wine_type_accuracy: 0.9970\n",
      "Epoch 90/180\n",
      "99/99 [==============================] - 0s 4ms/step - loss: 0.3132 - wine_quality_loss: 0.2890 - wine_type_loss: 0.0241 - wine_quality_root_mean_squared_error: 0.5376 - wine_type_accuracy: 0.9956 - val_loss: 0.3671 - val_wine_quality_loss: 0.3388 - val_wine_type_loss: 0.0283 - val_wine_quality_root_mean_squared_error: 0.5821 - val_wine_type_accuracy: 0.9970\n",
      "Epoch 91/180\n",
      "99/99 [==============================] - 0s 4ms/step - loss: 0.3130 - wine_quality_loss: 0.2890 - wine_type_loss: 0.0240 - wine_quality_root_mean_squared_error: 0.5376 - wine_type_accuracy: 0.9959 - val_loss: 0.3679 - val_wine_quality_loss: 0.3396 - val_wine_type_loss: 0.0283 - val_wine_quality_root_mean_squared_error: 0.5827 - val_wine_type_accuracy: 0.9959\n",
      "Epoch 92/180\n",
      "99/99 [==============================] - 0s 4ms/step - loss: 0.3113 - wine_quality_loss: 0.2874 - wine_type_loss: 0.0239 - wine_quality_root_mean_squared_error: 0.5361 - wine_type_accuracy: 0.9959 - val_loss: 0.3688 - val_wine_quality_loss: 0.3406 - val_wine_type_loss: 0.0282 - val_wine_quality_root_mean_squared_error: 0.5836 - val_wine_type_accuracy: 0.9970\n",
      "Epoch 93/180\n",
      "99/99 [==============================] - 0s 4ms/step - loss: 0.3110 - wine_quality_loss: 0.2872 - wine_type_loss: 0.0238 - wine_quality_root_mean_squared_error: 0.5359 - wine_type_accuracy: 0.9959 - val_loss: 0.3688 - val_wine_quality_loss: 0.3407 - val_wine_type_loss: 0.0281 - val_wine_quality_root_mean_squared_error: 0.5837 - val_wine_type_accuracy: 0.9970\n",
      "Epoch 94/180\n",
      "99/99 [==============================] - 0s 4ms/step - loss: 0.3102 - wine_quality_loss: 0.2864 - wine_type_loss: 0.0237 - wine_quality_root_mean_squared_error: 0.5352 - wine_type_accuracy: 0.9959 - val_loss: 0.3671 - val_wine_quality_loss: 0.3390 - val_wine_type_loss: 0.0281 - val_wine_quality_root_mean_squared_error: 0.5822 - val_wine_type_accuracy: 0.9970\n",
      "Epoch 95/180\n",
      "99/99 [==============================] - 0s 4ms/step - loss: 0.3099 - wine_quality_loss: 0.2862 - wine_type_loss: 0.0236 - wine_quality_root_mean_squared_error: 0.5350 - wine_type_accuracy: 0.9959 - val_loss: 0.3644 - val_wine_quality_loss: 0.3363 - val_wine_type_loss: 0.0281 - val_wine_quality_root_mean_squared_error: 0.5800 - val_wine_type_accuracy: 0.9970\n",
      "Epoch 96/180\n",
      "99/99 [==============================] - 0s 4ms/step - loss: 0.3089 - wine_quality_loss: 0.2853 - wine_type_loss: 0.0236 - wine_quality_root_mean_squared_error: 0.5341 - wine_type_accuracy: 0.9959 - val_loss: 0.3648 - val_wine_quality_loss: 0.3368 - val_wine_type_loss: 0.0280 - val_wine_quality_root_mean_squared_error: 0.5803 - val_wine_type_accuracy: 0.9970\n",
      "Epoch 97/180\n",
      "99/99 [==============================] - 0s 4ms/step - loss: 0.3093 - wine_quality_loss: 0.2858 - wine_type_loss: 0.0235 - wine_quality_root_mean_squared_error: 0.5346 - wine_type_accuracy: 0.9959 - val_loss: 0.3661 - val_wine_quality_loss: 0.3381 - val_wine_type_loss: 0.0279 - val_wine_quality_root_mean_squared_error: 0.5815 - val_wine_type_accuracy: 0.9970\n",
      "Epoch 98/180\n",
      "99/99 [==============================] - 0s 4ms/step - loss: 0.3083 - wine_quality_loss: 0.2849 - wine_type_loss: 0.0234 - wine_quality_root_mean_squared_error: 0.5337 - wine_type_accuracy: 0.9956 - val_loss: 0.3649 - val_wine_quality_loss: 0.3370 - val_wine_type_loss: 0.0279 - val_wine_quality_root_mean_squared_error: 0.5806 - val_wine_type_accuracy: 0.9970\n",
      "Epoch 99/180\n",
      "99/99 [==============================] - 0s 4ms/step - loss: 0.3083 - wine_quality_loss: 0.2850 - wine_type_loss: 0.0233 - wine_quality_root_mean_squared_error: 0.5339 - wine_type_accuracy: 0.9959 - val_loss: 0.3677 - val_wine_quality_loss: 0.3399 - val_wine_type_loss: 0.0278 - val_wine_quality_root_mean_squared_error: 0.5830 - val_wine_type_accuracy: 0.9970\n",
      "Epoch 100/180\n",
      "99/99 [==============================] - 0s 4ms/step - loss: 0.3069 - wine_quality_loss: 0.2838 - wine_type_loss: 0.0232 - wine_quality_root_mean_squared_error: 0.5327 - wine_type_accuracy: 0.9959 - val_loss: 0.3726 - val_wine_quality_loss: 0.3449 - val_wine_type_loss: 0.0277 - val_wine_quality_root_mean_squared_error: 0.5873 - val_wine_type_accuracy: 0.9970\n",
      "Epoch 101/180\n",
      "99/99 [==============================] - 0s 4ms/step - loss: 0.3067 - wine_quality_loss: 0.2836 - wine_type_loss: 0.0230 - wine_quality_root_mean_squared_error: 0.5326 - wine_type_accuracy: 0.9959 - val_loss: 0.3764 - val_wine_quality_loss: 0.3487 - val_wine_type_loss: 0.0277 - val_wine_quality_root_mean_squared_error: 0.5905 - val_wine_type_accuracy: 0.9970\n",
      "Epoch 102/180\n",
      "99/99 [==============================] - 0s 4ms/step - loss: 0.3047 - wine_quality_loss: 0.2818 - wine_type_loss: 0.0229 - wine_quality_root_mean_squared_error: 0.5308 - wine_type_accuracy: 0.9959 - val_loss: 0.3714 - val_wine_quality_loss: 0.3437 - val_wine_type_loss: 0.0276 - val_wine_quality_root_mean_squared_error: 0.5863 - val_wine_type_accuracy: 0.9970\n",
      "Epoch 103/180\n",
      "99/99 [==============================] - 0s 5ms/step - loss: 0.3063 - wine_quality_loss: 0.2834 - wine_type_loss: 0.0229 - wine_quality_root_mean_squared_error: 0.5324 - wine_type_accuracy: 0.9959 - val_loss: 0.3650 - val_wine_quality_loss: 0.3374 - val_wine_type_loss: 0.0276 - val_wine_quality_root_mean_squared_error: 0.5809 - val_wine_type_accuracy: 0.9970\n",
      "Epoch 104/180\n",
      "99/99 [==============================] - 0s 4ms/step - loss: 0.3057 - wine_quality_loss: 0.2830 - wine_type_loss: 0.0227 - wine_quality_root_mean_squared_error: 0.5320 - wine_type_accuracy: 0.9959 - val_loss: 0.3648 - val_wine_quality_loss: 0.3373 - val_wine_type_loss: 0.0275 - val_wine_quality_root_mean_squared_error: 0.5807 - val_wine_type_accuracy: 0.9970\n",
      "Epoch 105/180\n",
      "99/99 [==============================] - 0s 4ms/step - loss: 0.3039 - wine_quality_loss: 0.2812 - wine_type_loss: 0.0227 - wine_quality_root_mean_squared_error: 0.5303 - wine_type_accuracy: 0.9962 - val_loss: 0.3695 - val_wine_quality_loss: 0.3421 - val_wine_type_loss: 0.0275 - val_wine_quality_root_mean_squared_error: 0.5849 - val_wine_type_accuracy: 0.9970\n",
      "Epoch 106/180\n",
      "99/99 [==============================] - 0s 4ms/step - loss: 0.3029 - wine_quality_loss: 0.2804 - wine_type_loss: 0.0225 - wine_quality_root_mean_squared_error: 0.5295 - wine_type_accuracy: 0.9959 - val_loss: 0.3652 - val_wine_quality_loss: 0.3378 - val_wine_type_loss: 0.0274 - val_wine_quality_root_mean_squared_error: 0.5812 - val_wine_type_accuracy: 0.9970\n",
      "Epoch 107/180\n",
      "99/99 [==============================] - 0s 4ms/step - loss: 0.3041 - wine_quality_loss: 0.2816 - wine_type_loss: 0.0225 - wine_quality_root_mean_squared_error: 0.5307 - wine_type_accuracy: 0.9962 - val_loss: 0.3664 - val_wine_quality_loss: 0.3390 - val_wine_type_loss: 0.0274 - val_wine_quality_root_mean_squared_error: 0.5822 - val_wine_type_accuracy: 0.9970\n",
      "Epoch 108/180\n",
      "99/99 [==============================] - 0s 5ms/step - loss: 0.3037 - wine_quality_loss: 0.2813 - wine_type_loss: 0.0224 - wine_quality_root_mean_squared_error: 0.5304 - wine_type_accuracy: 0.9962 - val_loss: 0.3679 - val_wine_quality_loss: 0.3406 - val_wine_type_loss: 0.0273 - val_wine_quality_root_mean_squared_error: 0.5836 - val_wine_type_accuracy: 0.9970\n",
      "Epoch 109/180\n",
      "99/99 [==============================] - 0s 4ms/step - loss: 0.3023 - wine_quality_loss: 0.2800 - wine_type_loss: 0.0223 - wine_quality_root_mean_squared_error: 0.5291 - wine_type_accuracy: 0.9962 - val_loss: 0.3641 - val_wine_quality_loss: 0.3368 - val_wine_type_loss: 0.0272 - val_wine_quality_root_mean_squared_error: 0.5804 - val_wine_type_accuracy: 0.9970\n",
      "Epoch 110/180\n",
      "99/99 [==============================] - 0s 4ms/step - loss: 0.3019 - wine_quality_loss: 0.2797 - wine_type_loss: 0.0221 - wine_quality_root_mean_squared_error: 0.5289 - wine_type_accuracy: 0.9959 - val_loss: 0.3630 - val_wine_quality_loss: 0.3359 - val_wine_type_loss: 0.0272 - val_wine_quality_root_mean_squared_error: 0.5795 - val_wine_type_accuracy: 0.9970\n"
     ]
    },
    {
     "name": "stdout",
     "output_type": "stream",
     "text": [
      "Epoch 111/180\n",
      "99/99 [==============================] - 0s 4ms/step - loss: 0.3008 - wine_quality_loss: 0.2787 - wine_type_loss: 0.0221 - wine_quality_root_mean_squared_error: 0.5279 - wine_type_accuracy: 0.9962 - val_loss: 0.3640 - val_wine_quality_loss: 0.3368 - val_wine_type_loss: 0.0272 - val_wine_quality_root_mean_squared_error: 0.5804 - val_wine_type_accuracy: 0.9970\n",
      "Epoch 112/180\n",
      "99/99 [==============================] - 0s 4ms/step - loss: 0.3008 - wine_quality_loss: 0.2787 - wine_type_loss: 0.0221 - wine_quality_root_mean_squared_error: 0.5279 - wine_type_accuracy: 0.9962 - val_loss: 0.3637 - val_wine_quality_loss: 0.3366 - val_wine_type_loss: 0.0271 - val_wine_quality_root_mean_squared_error: 0.5802 - val_wine_type_accuracy: 0.9970\n",
      "Epoch 113/180\n",
      "99/99 [==============================] - 0s 4ms/step - loss: 0.3012 - wine_quality_loss: 0.2792 - wine_type_loss: 0.0219 - wine_quality_root_mean_squared_error: 0.5284 - wine_type_accuracy: 0.9962 - val_loss: 0.3664 - val_wine_quality_loss: 0.3394 - val_wine_type_loss: 0.0270 - val_wine_quality_root_mean_squared_error: 0.5825 - val_wine_type_accuracy: 0.9970\n",
      "Epoch 114/180\n",
      "99/99 [==============================] - 0s 4ms/step - loss: 0.2999 - wine_quality_loss: 0.2780 - wine_type_loss: 0.0218 - wine_quality_root_mean_squared_error: 0.5273 - wine_type_accuracy: 0.9962 - val_loss: 0.3708 - val_wine_quality_loss: 0.3439 - val_wine_type_loss: 0.0270 - val_wine_quality_root_mean_squared_error: 0.5864 - val_wine_type_accuracy: 0.9970\n",
      "Epoch 115/180\n",
      "99/99 [==============================] - 0s 4ms/step - loss: 0.2992 - wine_quality_loss: 0.2774 - wine_type_loss: 0.0218 - wine_quality_root_mean_squared_error: 0.5267 - wine_type_accuracy: 0.9962 - val_loss: 0.3610 - val_wine_quality_loss: 0.3341 - val_wine_type_loss: 0.0269 - val_wine_quality_root_mean_squared_error: 0.5780 - val_wine_type_accuracy: 0.9970\n",
      "Epoch 116/180\n",
      "99/99 [==============================] - 0s 4ms/step - loss: 0.2994 - wine_quality_loss: 0.2778 - wine_type_loss: 0.0216 - wine_quality_root_mean_squared_error: 0.5270 - wine_type_accuracy: 0.9962 - val_loss: 0.3650 - val_wine_quality_loss: 0.3382 - val_wine_type_loss: 0.0268 - val_wine_quality_root_mean_squared_error: 0.5815 - val_wine_type_accuracy: 0.9970\n",
      "Epoch 117/180\n",
      "99/99 [==============================] - 0s 4ms/step - loss: 0.2993 - wine_quality_loss: 0.2778 - wine_type_loss: 0.0216 - wine_quality_root_mean_squared_error: 0.5270 - wine_type_accuracy: 0.9962 - val_loss: 0.3635 - val_wine_quality_loss: 0.3367 - val_wine_type_loss: 0.0267 - val_wine_quality_root_mean_squared_error: 0.5803 - val_wine_type_accuracy: 0.9970\n",
      "Epoch 118/180\n",
      "99/99 [==============================] - 0s 4ms/step - loss: 0.2984 - wine_quality_loss: 0.2769 - wine_type_loss: 0.0215 - wine_quality_root_mean_squared_error: 0.5262 - wine_type_accuracy: 0.9962 - val_loss: 0.3640 - val_wine_quality_loss: 0.3372 - val_wine_type_loss: 0.0267 - val_wine_quality_root_mean_squared_error: 0.5807 - val_wine_type_accuracy: 0.9970\n",
      "Epoch 119/180\n",
      "99/99 [==============================] - 0s 4ms/step - loss: 0.2977 - wine_quality_loss: 0.2763 - wine_type_loss: 0.0214 - wine_quality_root_mean_squared_error: 0.5256 - wine_type_accuracy: 0.9962 - val_loss: 0.3615 - val_wine_quality_loss: 0.3349 - val_wine_type_loss: 0.0266 - val_wine_quality_root_mean_squared_error: 0.5787 - val_wine_type_accuracy: 0.9970\n",
      "Epoch 120/180\n",
      "99/99 [==============================] - 0s 4ms/step - loss: 0.2966 - wine_quality_loss: 0.2753 - wine_type_loss: 0.0213 - wine_quality_root_mean_squared_error: 0.5247 - wine_type_accuracy: 0.9965 - val_loss: 0.3597 - val_wine_quality_loss: 0.3331 - val_wine_type_loss: 0.0265 - val_wine_quality_root_mean_squared_error: 0.5772 - val_wine_type_accuracy: 0.9970\n",
      "Epoch 121/180\n",
      "99/99 [==============================] - 0s 4ms/step - loss: 0.2961 - wine_quality_loss: 0.2749 - wine_type_loss: 0.0212 - wine_quality_root_mean_squared_error: 0.5243 - wine_type_accuracy: 0.9965 - val_loss: 0.3621 - val_wine_quality_loss: 0.3356 - val_wine_type_loss: 0.0265 - val_wine_quality_root_mean_squared_error: 0.5793 - val_wine_type_accuracy: 0.9970\n",
      "Epoch 122/180\n",
      "99/99 [==============================] - 0s 4ms/step - loss: 0.2962 - wine_quality_loss: 0.2751 - wine_type_loss: 0.0211 - wine_quality_root_mean_squared_error: 0.5245 - wine_type_accuracy: 0.9962 - val_loss: 0.3601 - val_wine_quality_loss: 0.3336 - val_wine_type_loss: 0.0265 - val_wine_quality_root_mean_squared_error: 0.5776 - val_wine_type_accuracy: 0.9970\n",
      "Epoch 123/180\n",
      "99/99 [==============================] - 0s 4ms/step - loss: 0.2962 - wine_quality_loss: 0.2751 - wine_type_loss: 0.0211 - wine_quality_root_mean_squared_error: 0.5245 - wine_type_accuracy: 0.9962 - val_loss: 0.3611 - val_wine_quality_loss: 0.3347 - val_wine_type_loss: 0.0264 - val_wine_quality_root_mean_squared_error: 0.5785 - val_wine_type_accuracy: 0.9970\n",
      "Epoch 124/180\n",
      "99/99 [==============================] - 0s 4ms/step - loss: 0.2960 - wine_quality_loss: 0.2750 - wine_type_loss: 0.0210 - wine_quality_root_mean_squared_error: 0.5244 - wine_type_accuracy: 0.9965 - val_loss: 0.3608 - val_wine_quality_loss: 0.3344 - val_wine_type_loss: 0.0264 - val_wine_quality_root_mean_squared_error: 0.5783 - val_wine_type_accuracy: 0.9970\n",
      "Epoch 125/180\n",
      "99/99 [==============================] - 0s 4ms/step - loss: 0.2941 - wine_quality_loss: 0.2733 - wine_type_loss: 0.0209 - wine_quality_root_mean_squared_error: 0.5227 - wine_type_accuracy: 0.9962 - val_loss: 0.3731 - val_wine_quality_loss: 0.3467 - val_wine_type_loss: 0.0263 - val_wine_quality_root_mean_squared_error: 0.5888 - val_wine_type_accuracy: 0.9970\n",
      "Epoch 126/180\n",
      "99/99 [==============================] - 0s 4ms/step - loss: 0.2948 - wine_quality_loss: 0.2740 - wine_type_loss: 0.0208 - wine_quality_root_mean_squared_error: 0.5235 - wine_type_accuracy: 0.9965 - val_loss: 0.3640 - val_wine_quality_loss: 0.3377 - val_wine_type_loss: 0.0263 - val_wine_quality_root_mean_squared_error: 0.5811 - val_wine_type_accuracy: 0.9970\n",
      "Epoch 127/180\n",
      "99/99 [==============================] - 0s 4ms/step - loss: 0.2938 - wine_quality_loss: 0.2731 - wine_type_loss: 0.0207 - wine_quality_root_mean_squared_error: 0.5226 - wine_type_accuracy: 0.9962 - val_loss: 0.3618 - val_wine_quality_loss: 0.3355 - val_wine_type_loss: 0.0263 - val_wine_quality_root_mean_squared_error: 0.5792 - val_wine_type_accuracy: 0.9970\n",
      "Epoch 128/180\n",
      "99/99 [==============================] - 0s 4ms/step - loss: 0.2932 - wine_quality_loss: 0.2725 - wine_type_loss: 0.0207 - wine_quality_root_mean_squared_error: 0.5221 - wine_type_accuracy: 0.9965 - val_loss: 0.3643 - val_wine_quality_loss: 0.3381 - val_wine_type_loss: 0.0263 - val_wine_quality_root_mean_squared_error: 0.5814 - val_wine_type_accuracy: 0.9970\n",
      "Epoch 129/180\n",
      "99/99 [==============================] - 0s 5ms/step - loss: 0.2928 - wine_quality_loss: 0.2722 - wine_type_loss: 0.0206 - wine_quality_root_mean_squared_error: 0.5217 - wine_type_accuracy: 0.9965 - val_loss: 0.3616 - val_wine_quality_loss: 0.3354 - val_wine_type_loss: 0.0262 - val_wine_quality_root_mean_squared_error: 0.5791 - val_wine_type_accuracy: 0.9970\n",
      "Epoch 130/180\n",
      "99/99 [==============================] - 0s 4ms/step - loss: 0.2925 - wine_quality_loss: 0.2720 - wine_type_loss: 0.0205 - wine_quality_root_mean_squared_error: 0.5215 - wine_type_accuracy: 0.9965 - val_loss: 0.3646 - val_wine_quality_loss: 0.3385 - val_wine_type_loss: 0.0261 - val_wine_quality_root_mean_squared_error: 0.5818 - val_wine_type_accuracy: 0.9970\n",
      "Epoch 131/180\n",
      "99/99 [==============================] - 0s 4ms/step - loss: 0.2920 - wine_quality_loss: 0.2715 - wine_type_loss: 0.0204 - wine_quality_root_mean_squared_error: 0.5211 - wine_type_accuracy: 0.9965 - val_loss: 0.3629 - val_wine_quality_loss: 0.3368 - val_wine_type_loss: 0.0261 - val_wine_quality_root_mean_squared_error: 0.5804 - val_wine_type_accuracy: 0.9970\n",
      "Epoch 132/180\n",
      "99/99 [==============================] - 0s 4ms/step - loss: 0.2921 - wine_quality_loss: 0.2719 - wine_type_loss: 0.0203 - wine_quality_root_mean_squared_error: 0.5214 - wine_type_accuracy: 0.9965 - val_loss: 0.3665 - val_wine_quality_loss: 0.3405 - val_wine_type_loss: 0.0260 - val_wine_quality_root_mean_squared_error: 0.5835 - val_wine_type_accuracy: 0.9970\n"
     ]
    },
    {
     "name": "stdout",
     "output_type": "stream",
     "text": [
      "Epoch 133/180\n",
      "99/99 [==============================] - 0s 4ms/step - loss: 0.2918 - wine_quality_loss: 0.2715 - wine_type_loss: 0.0202 - wine_quality_root_mean_squared_error: 0.5211 - wine_type_accuracy: 0.9965 - val_loss: 0.3670 - val_wine_quality_loss: 0.3410 - val_wine_type_loss: 0.0260 - val_wine_quality_root_mean_squared_error: 0.5840 - val_wine_type_accuracy: 0.9970\n",
      "Epoch 134/180\n",
      "99/99 [==============================] - 0s 4ms/step - loss: 0.2901 - wine_quality_loss: 0.2700 - wine_type_loss: 0.0202 - wine_quality_root_mean_squared_error: 0.5196 - wine_type_accuracy: 0.9965 - val_loss: 0.3652 - val_wine_quality_loss: 0.3392 - val_wine_type_loss: 0.0260 - val_wine_quality_root_mean_squared_error: 0.5824 - val_wine_type_accuracy: 0.9970\n",
      "Epoch 135/180\n",
      "99/99 [==============================] - 0s 4ms/step - loss: 0.2900 - wine_quality_loss: 0.2699 - wine_type_loss: 0.0201 - wine_quality_root_mean_squared_error: 0.5196 - wine_type_accuracy: 0.9965 - val_loss: 0.3651 - val_wine_quality_loss: 0.3392 - val_wine_type_loss: 0.0259 - val_wine_quality_root_mean_squared_error: 0.5824 - val_wine_type_accuracy: 0.9970\n",
      "Epoch 136/180\n",
      "99/99 [==============================] - 0s 4ms/step - loss: 0.2896 - wine_quality_loss: 0.2695 - wine_type_loss: 0.0201 - wine_quality_root_mean_squared_error: 0.5191 - wine_type_accuracy: 0.9965 - val_loss: 0.3599 - val_wine_quality_loss: 0.3340 - val_wine_type_loss: 0.0259 - val_wine_quality_root_mean_squared_error: 0.5779 - val_wine_type_accuracy: 0.9970\n",
      "Epoch 137/180\n",
      "99/99 [==============================] - 0s 4ms/step - loss: 0.2886 - wine_quality_loss: 0.2686 - wine_type_loss: 0.0200 - wine_quality_root_mean_squared_error: 0.5183 - wine_type_accuracy: 0.9965 - val_loss: 0.3628 - val_wine_quality_loss: 0.3370 - val_wine_type_loss: 0.0258 - val_wine_quality_root_mean_squared_error: 0.5805 - val_wine_type_accuracy: 0.9970\n",
      "Epoch 138/180\n",
      "99/99 [==============================] - 0s 4ms/step - loss: 0.2888 - wine_quality_loss: 0.2689 - wine_type_loss: 0.0199 - wine_quality_root_mean_squared_error: 0.5186 - wine_type_accuracy: 0.9965 - val_loss: 0.3771 - val_wine_quality_loss: 0.3512 - val_wine_type_loss: 0.0258 - val_wine_quality_root_mean_squared_error: 0.5927 - val_wine_type_accuracy: 0.9970\n",
      "Epoch 139/180\n",
      "99/99 [==============================] - 0s 4ms/step - loss: 0.2884 - wine_quality_loss: 0.2686 - wine_type_loss: 0.0198 - wine_quality_root_mean_squared_error: 0.5183 - wine_type_accuracy: 0.9965 - val_loss: 0.3615 - val_wine_quality_loss: 0.3357 - val_wine_type_loss: 0.0258 - val_wine_quality_root_mean_squared_error: 0.5794 - val_wine_type_accuracy: 0.9970\n",
      "Epoch 140/180\n",
      "99/99 [==============================] - 0s 4ms/step - loss: 0.2874 - wine_quality_loss: 0.2676 - wine_type_loss: 0.0198 - wine_quality_root_mean_squared_error: 0.5173 - wine_type_accuracy: 0.9965 - val_loss: 0.3643 - val_wine_quality_loss: 0.3386 - val_wine_type_loss: 0.0258 - val_wine_quality_root_mean_squared_error: 0.5819 - val_wine_type_accuracy: 0.9970\n",
      "Epoch 141/180\n",
      "99/99 [==============================] - 0s 4ms/step - loss: 0.2878 - wine_quality_loss: 0.2681 - wine_type_loss: 0.0197 - wine_quality_root_mean_squared_error: 0.5178 - wine_type_accuracy: 0.9965 - val_loss: 0.3631 - val_wine_quality_loss: 0.3374 - val_wine_type_loss: 0.0257 - val_wine_quality_root_mean_squared_error: 0.5809 - val_wine_type_accuracy: 0.9970\n",
      "Epoch 142/180\n",
      "99/99 [==============================] - 0s 4ms/step - loss: 0.2872 - wine_quality_loss: 0.2675 - wine_type_loss: 0.0197 - wine_quality_root_mean_squared_error: 0.5172 - wine_type_accuracy: 0.9965 - val_loss: 0.3613 - val_wine_quality_loss: 0.3356 - val_wine_type_loss: 0.0257 - val_wine_quality_root_mean_squared_error: 0.5793 - val_wine_type_accuracy: 0.9970\n",
      "Epoch 143/180\n",
      "99/99 [==============================] - 0s 4ms/step - loss: 0.2868 - wine_quality_loss: 0.2672 - wine_type_loss: 0.0196 - wine_quality_root_mean_squared_error: 0.5169 - wine_type_accuracy: 0.9965 - val_loss: 0.3597 - val_wine_quality_loss: 0.3341 - val_wine_type_loss: 0.0256 - val_wine_quality_root_mean_squared_error: 0.5780 - val_wine_type_accuracy: 0.9970\n",
      "Epoch 144/180\n",
      "99/99 [==============================] - 0s 4ms/step - loss: 0.2866 - wine_quality_loss: 0.2671 - wine_type_loss: 0.0195 - wine_quality_root_mean_squared_error: 0.5168 - wine_type_accuracy: 0.9965 - val_loss: 0.3601 - val_wine_quality_loss: 0.3345 - val_wine_type_loss: 0.0256 - val_wine_quality_root_mean_squared_error: 0.5784 - val_wine_type_accuracy: 0.9970\n",
      "Epoch 145/180\n",
      "99/99 [==============================] - 0s 4ms/step - loss: 0.2862 - wine_quality_loss: 0.2669 - wine_type_loss: 0.0194 - wine_quality_root_mean_squared_error: 0.5166 - wine_type_accuracy: 0.9965 - val_loss: 0.3592 - val_wine_quality_loss: 0.3336 - val_wine_type_loss: 0.0256 - val_wine_quality_root_mean_squared_error: 0.5776 - val_wine_type_accuracy: 0.9970\n",
      "Epoch 146/180\n",
      "99/99 [==============================] - 0s 4ms/step - loss: 0.2864 - wine_quality_loss: 0.2671 - wine_type_loss: 0.0193 - wine_quality_root_mean_squared_error: 0.5168 - wine_type_accuracy: 0.9965 - val_loss: 0.3646 - val_wine_quality_loss: 0.3391 - val_wine_type_loss: 0.0255 - val_wine_quality_root_mean_squared_error: 0.5823 - val_wine_type_accuracy: 0.9970\n",
      "Epoch 147/180\n",
      "99/99 [==============================] - 0s 4ms/step - loss: 0.2853 - wine_quality_loss: 0.2659 - wine_type_loss: 0.0193 - wine_quality_root_mean_squared_error: 0.5157 - wine_type_accuracy: 0.9965 - val_loss: 0.3629 - val_wine_quality_loss: 0.3374 - val_wine_type_loss: 0.0255 - val_wine_quality_root_mean_squared_error: 0.5809 - val_wine_type_accuracy: 0.9970\n",
      "Epoch 148/180\n",
      "99/99 [==============================] - 0s 4ms/step - loss: 0.2850 - wine_quality_loss: 0.2657 - wine_type_loss: 0.0192 - wine_quality_root_mean_squared_error: 0.5155 - wine_type_accuracy: 0.9965 - val_loss: 0.3606 - val_wine_quality_loss: 0.3352 - val_wine_type_loss: 0.0254 - val_wine_quality_root_mean_squared_error: 0.5790 - val_wine_type_accuracy: 0.9970\n",
      "Epoch 149/180\n",
      "99/99 [==============================] - 0s 5ms/step - loss: 0.2850 - wine_quality_loss: 0.2659 - wine_type_loss: 0.0191 - wine_quality_root_mean_squared_error: 0.5156 - wine_type_accuracy: 0.9965 - val_loss: 0.3580 - val_wine_quality_loss: 0.3326 - val_wine_type_loss: 0.0254 - val_wine_quality_root_mean_squared_error: 0.5767 - val_wine_type_accuracy: 0.9970\n",
      "Epoch 150/180\n",
      "99/99 [==============================] - 0s 4ms/step - loss: 0.2852 - wine_quality_loss: 0.2660 - wine_type_loss: 0.0191 - wine_quality_root_mean_squared_error: 0.5158 - wine_type_accuracy: 0.9965 - val_loss: 0.3583 - val_wine_quality_loss: 0.3329 - val_wine_type_loss: 0.0254 - val_wine_quality_root_mean_squared_error: 0.5770 - val_wine_type_accuracy: 0.9970\n",
      "Epoch 151/180\n",
      "99/99 [==============================] - 0s 4ms/step - loss: 0.2837 - wine_quality_loss: 0.2648 - wine_type_loss: 0.0190 - wine_quality_root_mean_squared_error: 0.5145 - wine_type_accuracy: 0.9965 - val_loss: 0.3628 - val_wine_quality_loss: 0.3375 - val_wine_type_loss: 0.0253 - val_wine_quality_root_mean_squared_error: 0.5809 - val_wine_type_accuracy: 0.9970\n",
      "Epoch 152/180\n",
      "99/99 [==============================] - 0s 4ms/step - loss: 0.2829 - wine_quality_loss: 0.2640 - wine_type_loss: 0.0189 - wine_quality_root_mean_squared_error: 0.5138 - wine_type_accuracy: 0.9965 - val_loss: 0.3586 - val_wine_quality_loss: 0.3334 - val_wine_type_loss: 0.0252 - val_wine_quality_root_mean_squared_error: 0.5774 - val_wine_type_accuracy: 0.9970\n",
      "Epoch 153/180\n",
      "99/99 [==============================] - 0s 4ms/step - loss: 0.2840 - wine_quality_loss: 0.2651 - wine_type_loss: 0.0189 - wine_quality_root_mean_squared_error: 0.5149 - wine_type_accuracy: 0.9965 - val_loss: 0.3578 - val_wine_quality_loss: 0.3325 - val_wine_type_loss: 0.0252 - val_wine_quality_root_mean_squared_error: 0.5766 - val_wine_type_accuracy: 0.9970\n",
      "Epoch 154/180\n",
      "99/99 [==============================] - 0s 4ms/step - loss: 0.2827 - wine_quality_loss: 0.2639 - wine_type_loss: 0.0188 - wine_quality_root_mean_squared_error: 0.5137 - wine_type_accuracy: 0.9965 - val_loss: 0.3624 - val_wine_quality_loss: 0.3372 - val_wine_type_loss: 0.0252 - val_wine_quality_root_mean_squared_error: 0.5807 - val_wine_type_accuracy: 0.9970\n"
     ]
    },
    {
     "name": "stdout",
     "output_type": "stream",
     "text": [
      "Epoch 155/180\n",
      "99/99 [==============================] - 0s 4ms/step - loss: 0.2809 - wine_quality_loss: 0.2622 - wine_type_loss: 0.0187 - wine_quality_root_mean_squared_error: 0.5121 - wine_type_accuracy: 0.9965 - val_loss: 0.3704 - val_wine_quality_loss: 0.3452 - val_wine_type_loss: 0.0252 - val_wine_quality_root_mean_squared_error: 0.5876 - val_wine_type_accuracy: 0.9970\n",
      "Epoch 156/180\n",
      "99/99 [==============================] - 0s 4ms/step - loss: 0.2818 - wine_quality_loss: 0.2632 - wine_type_loss: 0.0187 - wine_quality_root_mean_squared_error: 0.5130 - wine_type_accuracy: 0.9965 - val_loss: 0.3623 - val_wine_quality_loss: 0.3371 - val_wine_type_loss: 0.0251 - val_wine_quality_root_mean_squared_error: 0.5806 - val_wine_type_accuracy: 0.9970\n",
      "Epoch 157/180\n",
      "99/99 [==============================] - 2s 17ms/step - loss: 0.2818 - wine_quality_loss: 0.2633 - wine_type_loss: 0.0186 - wine_quality_root_mean_squared_error: 0.5131 - wine_type_accuracy: 0.9965 - val_loss: 0.3566 - val_wine_quality_loss: 0.3315 - val_wine_type_loss: 0.0251 - val_wine_quality_root_mean_squared_error: 0.5758 - val_wine_type_accuracy: 0.9970\n",
      "Epoch 158/180\n",
      "99/99 [==============================] - 0s 4ms/step - loss: 0.2810 - wine_quality_loss: 0.2624 - wine_type_loss: 0.0186 - wine_quality_root_mean_squared_error: 0.5123 - wine_type_accuracy: 0.9965 - val_loss: 0.3572 - val_wine_quality_loss: 0.3321 - val_wine_type_loss: 0.0251 - val_wine_quality_root_mean_squared_error: 0.5763 - val_wine_type_accuracy: 0.9970\n",
      "Epoch 159/180\n",
      "99/99 [==============================] - 0s 5ms/step - loss: 0.2815 - wine_quality_loss: 0.2630 - wine_type_loss: 0.0186 - wine_quality_root_mean_squared_error: 0.5128 - wine_type_accuracy: 0.9965 - val_loss: 0.3579 - val_wine_quality_loss: 0.3329 - val_wine_type_loss: 0.0250 - val_wine_quality_root_mean_squared_error: 0.5770 - val_wine_type_accuracy: 0.9970\n",
      "Epoch 160/180\n",
      "99/99 [==============================] - 0s 4ms/step - loss: 0.2804 - wine_quality_loss: 0.2620 - wine_type_loss: 0.0184 - wine_quality_root_mean_squared_error: 0.5118 - wine_type_accuracy: 0.9965 - val_loss: 0.3605 - val_wine_quality_loss: 0.3355 - val_wine_type_loss: 0.0250 - val_wine_quality_root_mean_squared_error: 0.5792 - val_wine_type_accuracy: 0.9970\n",
      "Epoch 161/180\n",
      "99/99 [==============================] - 0s 4ms/step - loss: 0.2799 - wine_quality_loss: 0.2615 - wine_type_loss: 0.0184 - wine_quality_root_mean_squared_error: 0.5114 - wine_type_accuracy: 0.9965 - val_loss: 0.3617 - val_wine_quality_loss: 0.3367 - val_wine_type_loss: 0.0250 - val_wine_quality_root_mean_squared_error: 0.5803 - val_wine_type_accuracy: 0.9970\n",
      "Epoch 162/180\n",
      "99/99 [==============================] - 0s 4ms/step - loss: 0.2792 - wine_quality_loss: 0.2609 - wine_type_loss: 0.0183 - wine_quality_root_mean_squared_error: 0.5108 - wine_type_accuracy: 0.9965 - val_loss: 0.3577 - val_wine_quality_loss: 0.3328 - val_wine_type_loss: 0.0249 - val_wine_quality_root_mean_squared_error: 0.5769 - val_wine_type_accuracy: 0.9970\n",
      "Epoch 163/180\n",
      "99/99 [==============================] - 0s 4ms/step - loss: 0.2796 - wine_quality_loss: 0.2613 - wine_type_loss: 0.0182 - wine_quality_root_mean_squared_error: 0.5112 - wine_type_accuracy: 0.9965 - val_loss: 0.3559 - val_wine_quality_loss: 0.3310 - val_wine_type_loss: 0.0248 - val_wine_quality_root_mean_squared_error: 0.5753 - val_wine_type_accuracy: 0.9970\n",
      "Epoch 164/180\n",
      "99/99 [==============================] - 0s 4ms/step - loss: 0.2789 - wine_quality_loss: 0.2608 - wine_type_loss: 0.0182 - wine_quality_root_mean_squared_error: 0.5107 - wine_type_accuracy: 0.9965 - val_loss: 0.3599 - val_wine_quality_loss: 0.3351 - val_wine_type_loss: 0.0248 - val_wine_quality_root_mean_squared_error: 0.5789 - val_wine_type_accuracy: 0.9970\n",
      "Epoch 165/180\n",
      "99/99 [==============================] - 0s 5ms/step - loss: 0.2783 - wine_quality_loss: 0.2602 - wine_type_loss: 0.0181 - wine_quality_root_mean_squared_error: 0.5101 - wine_type_accuracy: 0.9965 - val_loss: 0.3576 - val_wine_quality_loss: 0.3328 - val_wine_type_loss: 0.0248 - val_wine_quality_root_mean_squared_error: 0.5769 - val_wine_type_accuracy: 0.9970\n",
      "Epoch 166/180\n",
      "99/99 [==============================] - 0s 4ms/step - loss: 0.2776 - wine_quality_loss: 0.2595 - wine_type_loss: 0.0181 - wine_quality_root_mean_squared_error: 0.5094 - wine_type_accuracy: 0.9968 - val_loss: 0.3602 - val_wine_quality_loss: 0.3355 - val_wine_type_loss: 0.0248 - val_wine_quality_root_mean_squared_error: 0.5792 - val_wine_type_accuracy: 0.9970\n",
      "Epoch 167/180\n",
      "99/99 [==============================] - 0s 4ms/step - loss: 0.2775 - wine_quality_loss: 0.2595 - wine_type_loss: 0.0179 - wine_quality_root_mean_squared_error: 0.5095 - wine_type_accuracy: 0.9965 - val_loss: 0.3707 - val_wine_quality_loss: 0.3459 - val_wine_type_loss: 0.0247 - val_wine_quality_root_mean_squared_error: 0.5882 - val_wine_type_accuracy: 0.9970\n",
      "Epoch 168/180\n",
      "99/99 [==============================] - 0s 4ms/step - loss: 0.2774 - wine_quality_loss: 0.2595 - wine_type_loss: 0.0180 - wine_quality_root_mean_squared_error: 0.5094 - wine_type_accuracy: 0.9965 - val_loss: 0.3591 - val_wine_quality_loss: 0.3344 - val_wine_type_loss: 0.0247 - val_wine_quality_root_mean_squared_error: 0.5783 - val_wine_type_accuracy: 0.9970\n",
      "Epoch 169/180\n",
      "99/99 [==============================] - 0s 4ms/step - loss: 0.2769 - wine_quality_loss: 0.2590 - wine_type_loss: 0.0179 - wine_quality_root_mean_squared_error: 0.5090 - wine_type_accuracy: 0.9965 - val_loss: 0.3662 - val_wine_quality_loss: 0.3415 - val_wine_type_loss: 0.0247 - val_wine_quality_root_mean_squared_error: 0.5844 - val_wine_type_accuracy: 0.9970\n",
      "Epoch 170/180\n",
      "99/99 [==============================] - 0s 4ms/step - loss: 0.2754 - wine_quality_loss: 0.2576 - wine_type_loss: 0.0178 - wine_quality_root_mean_squared_error: 0.5075 - wine_type_accuracy: 0.9965 - val_loss: 0.3707 - val_wine_quality_loss: 0.3462 - val_wine_type_loss: 0.0245 - val_wine_quality_root_mean_squared_error: 0.5884 - val_wine_type_accuracy: 0.9970\n",
      "Epoch 171/180\n",
      "99/99 [==============================] - 0s 4ms/step - loss: 0.2755 - wine_quality_loss: 0.2577 - wine_type_loss: 0.0178 - wine_quality_root_mean_squared_error: 0.5076 - wine_type_accuracy: 0.9968 - val_loss: 0.3638 - val_wine_quality_loss: 0.3393 - val_wine_type_loss: 0.0245 - val_wine_quality_root_mean_squared_error: 0.5825 - val_wine_type_accuracy: 0.9970\n",
      "Epoch 172/180\n",
      "99/99 [==============================] - 0s 4ms/step - loss: 0.2765 - wine_quality_loss: 0.2587 - wine_type_loss: 0.0177 - wine_quality_root_mean_squared_error: 0.5087 - wine_type_accuracy: 0.9965 - val_loss: 0.3603 - val_wine_quality_loss: 0.3358 - val_wine_type_loss: 0.0245 - val_wine_quality_root_mean_squared_error: 0.5795 - val_wine_type_accuracy: 0.9970\n",
      "Epoch 173/180\n",
      "99/99 [==============================] - 0s 4ms/step - loss: 0.2745 - wine_quality_loss: 0.2569 - wine_type_loss: 0.0176 - wine_quality_root_mean_squared_error: 0.5069 - wine_type_accuracy: 0.9968 - val_loss: 0.3633 - val_wine_quality_loss: 0.3388 - val_wine_type_loss: 0.0245 - val_wine_quality_root_mean_squared_error: 0.5821 - val_wine_type_accuracy: 0.9970\n",
      "Epoch 174/180\n",
      "99/99 [==============================] - 0s 4ms/step - loss: 0.2751 - wine_quality_loss: 0.2575 - wine_type_loss: 0.0176 - wine_quality_root_mean_squared_error: 0.5074 - wine_type_accuracy: 0.9965 - val_loss: 0.3557 - val_wine_quality_loss: 0.3312 - val_wine_type_loss: 0.0245 - val_wine_quality_root_mean_squared_error: 0.5755 - val_wine_type_accuracy: 0.9970\n",
      "Epoch 175/180\n",
      "99/99 [==============================] - 0s 4ms/step - loss: 0.2744 - wine_quality_loss: 0.2568 - wine_type_loss: 0.0175 - wine_quality_root_mean_squared_error: 0.5068 - wine_type_accuracy: 0.9965 - val_loss: 0.3614 - val_wine_quality_loss: 0.3369 - val_wine_type_loss: 0.0245 - val_wine_quality_root_mean_squared_error: 0.5804 - val_wine_type_accuracy: 0.9970\n",
      "Epoch 176/180\n",
      "99/99 [==============================] - 0s 4ms/step - loss: 0.2750 - wine_quality_loss: 0.2575 - wine_type_loss: 0.0174 - wine_quality_root_mean_squared_error: 0.5075 - wine_type_accuracy: 0.9968 - val_loss: 0.3612 - val_wine_quality_loss: 0.3368 - val_wine_type_loss: 0.0244 - val_wine_quality_root_mean_squared_error: 0.5804 - val_wine_type_accuracy: 0.9970\n"
     ]
    },
    {
     "name": "stdout",
     "output_type": "stream",
     "text": [
      "Epoch 177/180\n",
      "99/99 [==============================] - 0s 4ms/step - loss: 0.2736 - wine_quality_loss: 0.2562 - wine_type_loss: 0.0174 - wine_quality_root_mean_squared_error: 0.5061 - wine_type_accuracy: 0.9965 - val_loss: 0.3650 - val_wine_quality_loss: 0.3406 - val_wine_type_loss: 0.0243 - val_wine_quality_root_mean_squared_error: 0.5836 - val_wine_type_accuracy: 0.9970\n",
      "Epoch 178/180\n",
      "99/99 [==============================] - 0s 4ms/step - loss: 0.2738 - wine_quality_loss: 0.2565 - wine_type_loss: 0.0173 - wine_quality_root_mean_squared_error: 0.5065 - wine_type_accuracy: 0.9968 - val_loss: 0.3582 - val_wine_quality_loss: 0.3340 - val_wine_type_loss: 0.0243 - val_wine_quality_root_mean_squared_error: 0.5779 - val_wine_type_accuracy: 0.9970\n",
      "Epoch 179/180\n",
      "99/99 [==============================] - 0s 4ms/step - loss: 0.2738 - wine_quality_loss: 0.2566 - wine_type_loss: 0.0172 - wine_quality_root_mean_squared_error: 0.5065 - wine_type_accuracy: 0.9968 - val_loss: 0.3589 - val_wine_quality_loss: 0.3347 - val_wine_type_loss: 0.0242 - val_wine_quality_root_mean_squared_error: 0.5785 - val_wine_type_accuracy: 0.9970\n",
      "Epoch 180/180\n",
      "99/99 [==============================] - 0s 4ms/step - loss: 0.2731 - wine_quality_loss: 0.2559 - wine_type_loss: 0.0172 - wine_quality_root_mean_squared_error: 0.5058 - wine_type_accuracy: 0.9965 - val_loss: 0.3601 - val_wine_quality_loss: 0.3359 - val_wine_type_loss: 0.0242 - val_wine_quality_root_mean_squared_error: 0.5796 - val_wine_type_accuracy: 0.9970\n"
     ]
    }
   ],
   "source": [
    "history = model.fit(norm_train_X, train_Y,\n",
    "                    epochs = 180, validation_data=(norm_test_X, test_Y))"
   ]
  },
  {
   "cell_type": "code",
   "execution_count": 24,
   "metadata": {},
   "outputs": [
    {
     "name": "stdout",
     "output_type": "stream",
     "text": [
      "25/25 [==============================] - 0s 2ms/step - loss: 0.3468 - wine_quality_loss: 0.3182 - wine_type_loss: 0.0286 - wine_quality_root_mean_squared_error: 0.5641 - wine_type_accuracy: 0.9937\n",
      "\n",
      "loss: 0.3467765152454376\n",
      "wine_quality_loss: 0.318202942609787\n",
      "wine_type_loss: 0.02857358567416668\n",
      "wine_quality_rmse: 0.5640947818756104\n",
      "wine_type_accuracy: 0.9936628937721252\n"
     ]
    }
   ],
   "source": [
    "# Gather the training metrics\n",
    "loss, wine_quality_loss, wine_type_loss, wine_quality_rmse, wine_type_accuracy = model.evaluate(x=norm_val_X, y=val_Y)\n",
    "\n",
    "print()\n",
    "print(f'loss: {loss}')\n",
    "print(f'wine_quality_loss: {wine_quality_loss}')\n",
    "print(f'wine_type_loss: {wine_type_loss}')\n",
    "print(f'wine_quality_rmse: {wine_quality_rmse}')\n",
    "print(f'wine_type_accuracy: {wine_type_accuracy}')"
   ]
  },
  {
   "cell_type": "code",
   "execution_count": 25,
   "metadata": {},
   "outputs": [],
   "source": [
    "predictions = model.predict(norm_test_X)\n",
    "quality_pred = predictions[0]\n",
    "type_pred = predictions[1]"
   ]
  },
  {
   "cell_type": "code",
   "execution_count": 26,
   "metadata": {},
   "outputs": [
    {
     "name": "stdout",
     "output_type": "stream",
     "text": [
      "[5.693209]\n"
     ]
    }
   ],
   "source": [
    "print(quality_pred[0])"
   ]
  },
  {
   "cell_type": "code",
   "execution_count": 27,
   "metadata": {},
   "outputs": [
    {
     "name": "stdout",
     "output_type": "stream",
     "text": [
      "[8.795014e-05]\n",
      "[0.9999788]\n"
     ]
    }
   ],
   "source": [
    "print(type_pred[0])\n",
    "print(type_pred[944])"
   ]
  },
  {
   "cell_type": "code",
   "execution_count": 28,
   "metadata": {},
   "outputs": [],
   "source": [
    "def plot_metrics(metric_name, title, ylim=5):\n",
    "    plt.title(title)\n",
    "    plt.ylim(0,ylim)\n",
    "    plt.plot(history.history[metric_name],color='blue',label=metric_name)\n",
    "    plt.plot(history.history['val_' + metric_name],color='green',label='val_' + metric_name)"
   ]
  },
  {
   "cell_type": "code",
   "execution_count": 29,
   "metadata": {},
   "outputs": [],
   "source": [
    "def plot_confusion_matrix(y_true, y_pred, title='', labels=[0,1]):\n",
    "    cm = confusion_matrix(y_true, y_pred)\n",
    "    fig = plt.figure()\n",
    "    ax = fig.add_subplot(111)\n",
    "    cax = ax.matshow(cm)\n",
    "    plt.title('Confusion matrix of the classifier')\n",
    "    fig.colorbar(cax)\n",
    "    ax.set_xticklabels([''] + labels)\n",
    "    ax.set_yticklabels([''] + labels)\n",
    "    plt.xlabel('Predicted')\n",
    "    plt.ylabel('True')\n",
    "    fmt = 'd'\n",
    "    thresh = cm.max() / 2.\n",
    "    for i, j in itertools.product(range(cm.shape[0]), range(cm.shape[1])):\n",
    "          plt.text(j, i, format(cm[i, j], fmt),\n",
    "                  horizontalalignment=\"center\",\n",
    "                  color=\"black\" if cm[i, j] > thresh else \"white\")\n",
    "    plt.show()"
   ]
  },
  {
   "cell_type": "code",
   "execution_count": 30,
   "metadata": {},
   "outputs": [],
   "source": [
    "def plot_diff(y_true, y_pred, title = '' ):\n",
    "    plt.scatter(y_true, y_pred)\n",
    "    plt.title(title)\n",
    "    plt.xlabel('True Values')\n",
    "    plt.ylabel('Predictions')\n",
    "    plt.axis('equal')\n",
    "    plt.axis('square')\n",
    "    plt.plot([-100, 100], [-100, 100])\n",
    "    return plt"
   ]
  },
  {
   "cell_type": "code",
   "execution_count": 31,
   "metadata": {},
   "outputs": [
    {
     "data": {
      "image/png": "[encoded data removed]",
      "text/plain": [
       "<Figure size 432x288 with 1 Axes>"
      ]
     },
     "metadata": {
      "needs_background": "light"
     },
     "output_type": "display_data"
    }
   ],
   "source": [
    "plot_metrics('wine_quality_root_mean_squared_error', 'RMSE', ylim=2)"
   ]
  },
  {
   "cell_type": "code",
   "execution_count": 32,
   "metadata": {},
   "outputs": [
    {
     "data": {
      "image/png": "[encoded data removed]",
      "text/plain": [
       "<Figure size 432x288 with 1 Axes>"
      ]
     },
     "metadata": {
      "needs_background": "light"
     },
     "output_type": "display_data"
    }
   ],
   "source": [
    "plot_metrics('wine_type_loss', 'Wine Type Loss', ylim=0.2)"
   ]
  },
  {
   "cell_type": "code",
   "execution_count": 33,
   "metadata": {},
   "outputs": [
    {
     "name": "stderr",
     "output_type": "stream",
     "text": [
      "<ipython-input-29-47bb6e202cb0>:8: UserWarning: FixedFormatter should only be used together with FixedLocator\n",
      "  ax.set_xticklabels([''] + labels)\n",
      "<ipython-input-29-47bb6e202cb0>:9: UserWarning: FixedFormatter should only be used together with FixedLocator\n",
      "  ax.set_yticklabels([''] + labels)\n"
     ]
    },
    {
     "data": {
      "image/png": "[encoded data removed]",
      "text/plain": [
       "<Figure size 432x288 with 2 Axes>"
      ]
     },
     "metadata": {
      "needs_background": "light"
     },
     "output_type": "display_data"
    }
   ],
   "source": [
    "plot_confusion_matrix(test_Y[1], np.round(type_pred), title='Wine Type', labels = [0, 1])"
   ]
  },
  {
   "cell_type": "code",
   "execution_count": 34,
   "metadata": {},
   "outputs": [
    {
     "data": {
      "image/png": "[encoded data removed]",
      "text/plain": [
       "<Figure size 432x288 with 1 Axes>"
      ]
     },
     "metadata": {
      "needs_background": "light"
     },
     "output_type": "display_data"
    }
   ],
   "source": [
    "\n",
    "scatter_plot = plot_diff(test_Y[0], quality_pred, title='Type')"
   ]
  },
  {
   "cell_type": "code",
   "execution_count": null,
   "metadata": {},
   "outputs": [],
   "source": []
  }
 ],
 "metadata": {
  "kernelspec": {
   "display_name": "tutorial",
   "language": "python",
   "name": "tutorial"
  },
  "language_info": {
   "codemirror_mode": {
    "name": "ipython",
    "version": 3
   },
   "file_extension": ".py",
   "mimetype": "text/x-python",
   "name": "python",
   "nbconvert_exporter": "python",
   "pygments_lexer": "ipython3",
   "version": "3.8.5"
  }
 },
 "nbformat": 4,
 "nbformat_minor": 4
}
